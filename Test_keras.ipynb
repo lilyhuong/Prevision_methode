{
  "nbformat": 4,
  "nbformat_minor": 0,
  "metadata": {
    "colab": {
      "provenance": [],
      "authorship_tag": "ABX9TyP29Z54Jx/ZRRYJMqXzhBHh",
      "include_colab_link": true
    },
    "kernelspec": {
      "name": "python3",
      "display_name": "Python 3"
    },
    "language_info": {
      "name": "python"
    }
  },
  "cells": [
    {
      "cell_type": "markdown",
      "metadata": {
        "id": "view-in-github",
        "colab_type": "text"
      },
      "source": [
        "<a href=\"https://colab.research.google.com/github/lilyhuong/Prevision_methode/blob/lily/Test_keras.ipynb\" target=\"_parent\"><img src=\"https://colab.research.google.com/assets/colab-badge.svg\" alt=\"Open In Colab\"/></a>"
      ]
    },
    {
      "cell_type": "markdown",
      "source": [
        "https://keras.io/guides/functional_api/"
      ],
      "metadata": {
        "id": "hpCxecqEuuM0"
      }
    },
    {
      "cell_type": "code",
      "execution_count": 1,
      "metadata": {
        "id": "rrHYEzViqyBW"
      },
      "outputs": [],
      "source": [
        "import tensorflow as tf"
      ]
    },
    {
      "cell_type": "code",
      "source": [
        "import numpy as np\n",
        "from tensorflow import keras\n",
        "from tensorflow.keras import layers"
      ],
      "metadata": {
        "id": "7jVJbNuQr_rN"
      },
      "execution_count": 2,
      "outputs": []
    },
    {
      "cell_type": "code",
      "source": [
        "inputs = keras.Input(shape=(784,)) #creat the first oject with reference "
      ],
      "metadata": {
        "id": "PZzLgSJMtTdS"
      },
      "execution_count": 6,
      "outputs": []
    },
    {
      "cell_type": "code",
      "source": [
        "dense = layers.Dense(64, activation=\"relu\") #dense is name of layer\n",
        "x = dense(inputs) #creat an object apply to input to connect with input"
      ],
      "metadata": {
        "id": "--EyAYIevP_j"
      },
      "execution_count": 7,
      "outputs": []
    },
    {
      "cell_type": "code",
      "source": [
        "x = layers.Dense(64, activation=\"relu\")(x)  #apply to previous object \n",
        "outputs = layers.Dense(10)(x) #defaukt with 10"
      ],
      "metadata": {
        "id": "r7FpReCLvqzI"
      },
      "execution_count": 10,
      "outputs": []
    }
  ]
}