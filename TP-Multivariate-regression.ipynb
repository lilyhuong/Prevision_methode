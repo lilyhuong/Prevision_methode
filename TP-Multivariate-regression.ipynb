{
 "cells": [
  {
   "cell_type": "markdown",
   "id": "d1c766cc",
   "metadata": {},
   "source": [
    "# Example 2: Linear and polynomial regression\n",
    "\n",
    "\n",
    "The purpose of this tutorial is to learn about multivariate linear models (with several explanatory variables). This example is an application of a multivariate linear regression on Boston neighborhood housing data, available in the `sklearn.datasets` module. \n",
    "\n",
    "For this tutorial, we will need the following modules:"
   ]
  },
  {
   "cell_type": "code",
   "execution_count": 14,
   "id": "78b6e6e2",
   "metadata": {},
   "outputs": [],
   "source": [
    "from sklearn.preprocessing import PolynomialFeatures # add polynomial terms in a regression\n",
    "from sklearn.preprocessing import StandardScaler # standardize the variables\n",
    "from sklearn.model_selection import train_test_split # split a sample in 2 sub-samples (training-test)\n",
    "from sklearn.datasets import load_boston # load boston dataset\n",
    "from sklearn.linear_model import SGDRegressor # linear regression (stochastic gradient descent)\n",
    "from sklearn.linear_model import LinearRegression # linear regression (OLS, normal equation)\n",
    "from sklearn.metrics import r2_score # compute R2 (see previous tutorial)\n",
    "from sklearn.metrics import mean_squared_error # compute mean squared error\n",
    "from sklearn.pipeline import make_pipeline # create pipelines\n",
    "from sklearn.model_selection import cross_val_score # cross validation scores\n",
    "import numpy as np\n",
    "import pandas as pd\n",
    "import matplotlib.pyplot as plt"
   ]
  },
  {
   "cell_type": "markdown",
   "id": "3b72b663",
   "metadata": {},
   "source": [
    "## 1) Boston dataset\n",
    "\n",
    "Boston data is available by default in the library, via the `load_boston` function of the datasets module."
   ]
  },
  {
   "cell_type": "code",
   "execution_count": 15,
   "id": "8d6e3efe",
   "metadata": {},
   "outputs": [],
   "source": [
    "data = load_boston()"
   ]
  },
  {
   "cell_type": "markdown",
   "id": "f9d0a529",
   "metadata": {},
   "source": [
    "The `data` object obtained with this function contains several elements, which can be displayed with the `keys()` function. The `data` element contains the $x_j$ variables, `target` contains the $y$ variable, `feature_names` contains the names of the variables, `DESCR` contains a description of the data, and `filename` gives the path to the file containing the Boston data."
   ]
  },
  {
   "cell_type": "code",
   "execution_count": 16,
   "id": "7f76454f",
   "metadata": {},
   "outputs": [
    {
     "data": {
      "text/plain": [
       "dict_keys(['data', 'target', 'feature_names', 'DESCR', 'filename'])"
      ]
     },
     "execution_count": 16,
     "metadata": {},
     "output_type": "execute_result"
    }
   ],
   "source": [
    "data.keys()"
   ]
  },
  {
   "cell_type": "markdown",
   "id": "e956fdf5",
   "metadata": {},
   "source": [
    "We create an object `X`, containing variables to be explained, and an object `y`, containing"
   ]
  },
  {
   "cell_type": "code",
   "execution_count": 17,
   "id": "976827d9",
   "metadata": {},
   "outputs": [],
   "source": [
    "X = data.data # input variables in X\n",
    "y = data.target # output variable in y"
   ]
  },
  {
   "cell_type": "markdown",
   "id": "46d26a32",
   "metadata": {},
   "source": [
    "You can also display the description of the data, their dimensions, and the name of the variables."
   ]
  },
  {
   "cell_type": "code",
   "execution_count": 18,
   "id": "c496a05e",
   "metadata": {},
   "outputs": [
    {
     "name": "stdout",
     "output_type": "stream",
     "text": [
      ".. _boston_dataset:\n",
      "\n",
      "Boston house prices dataset\n",
      "---------------------------\n",
      "\n",
      "**Data Set Characteristics:**  \n",
      "\n",
      "    :Number of Instances: 506 \n",
      "\n",
      "    :Number of Attributes: 13 numeric/categorical predictive. Median Value (attribute 14) is usually the target.\n",
      "\n",
      "    :Attribute Information (in order):\n",
      "        - CRIM     per capita crime rate by town\n",
      "        - ZN       proportion of residential land zoned for lots over 25,000 sq.ft.\n",
      "        - INDUS    proportion of non-retail business acres per town\n",
      "        - CHAS     Charles River dummy variable (= 1 if tract bounds river; 0 otherwise)\n",
      "        - NOX      nitric oxides concentration (parts per 10 million)\n",
      "        - RM       average number of rooms per dwelling\n",
      "        - AGE      proportion of owner-occupied units built prior to 1940\n",
      "        - DIS      weighted distances to five Boston employment centres\n",
      "        - RAD      index of accessibility to radial highways\n",
      "        - TAX      full-value property-tax rate per $10,000\n",
      "        - PTRATIO  pupil-teacher ratio by town\n",
      "        - B        1000(Bk - 0.63)^2 where Bk is the proportion of blacks by town\n",
      "        - LSTAT    % lower status of the population\n",
      "        - MEDV     Median value of owner-occupied homes in $1000's\n",
      "\n",
      "    :Missing Attribute Values: None\n",
      "\n",
      "    :Creator: Harrison, D. and Rubinfeld, D.L.\n",
      "\n",
      "This is a copy of UCI ML housing dataset.\n",
      "https://archive.ics.uci.edu/ml/machine-learning-databases/housing/\n",
      "\n",
      "\n",
      "This dataset was taken from the StatLib library which is maintained at Carnegie Mellon University.\n",
      "\n",
      "The Boston house-price data of Harrison, D. and Rubinfeld, D.L. 'Hedonic\n",
      "prices and the demand for clean air', J. Environ. Economics & Management,\n",
      "vol.5, 81-102, 1978.   Used in Belsley, Kuh & Welsch, 'Regression diagnostics\n",
      "...', Wiley, 1980.   N.B. Various transformations are used in the table on\n",
      "pages 244-261 of the latter.\n",
      "\n",
      "The Boston house-price data has been used in many machine learning papers that address regression\n",
      "problems.   \n",
      "     \n",
      ".. topic:: References\n",
      "\n",
      "   - Belsley, Kuh & Welsch, 'Regression diagnostics: Identifying Influential Data and Sources of Collinearity', Wiley, 1980. 244-261.\n",
      "   - Quinlan,R. (1993). Combining Instance-Based and Model-Based Learning. In Proceedings on the Tenth International Conference of Machine Learning, 236-243, University of Massachusetts, Amherst. Morgan Kaufmann.\n",
      "\n"
     ]
    }
   ],
   "source": [
    "print(data.DESCR)"
   ]
  },
  {
   "cell_type": "code",
   "execution_count": 19,
   "id": "523cab68",
   "metadata": {},
   "outputs": [
    {
     "name": "stdout",
     "output_type": "stream",
     "text": [
      "(506, 13)\n",
      "['CRIM' 'ZN' 'INDUS' 'CHAS' 'NOX' 'RM' 'AGE' 'DIS' 'RAD' 'TAX' 'PTRATIO'\n",
      " 'B' 'LSTAT']\n"
     ]
    }
   ],
   "source": [
    "print(X.shape)\n",
    "print(data.feature_names)"
   ]
  },
  {
   "cell_type": "markdown",
   "id": "8ef1045f",
   "metadata": {},
   "source": [
    "(optional) One can also concatenate `X` and `y`, and convert them into a DataFrame (pandas library). This can be useful to access some functions of pandas and matplotlib (see histograms below)."
   ]
  },
  {
   "cell_type": "code",
   "execution_count": 20,
   "id": "75ba502b",
   "metadata": {},
   "outputs": [],
   "source": [
    "colnames = np.append(data.feature_names, \"MEDV\") # nparray containing columns names\n",
    "df = pd.DataFrame(np.c_[X,y], columns = (colnames)) # bind X and y and convert into DataFrame"
   ]
  },
  {
   "cell_type": "code",
   "execution_count": 21,
   "id": "66a8c938",
   "metadata": {},
   "outputs": [
    {
     "data": {
      "text/html": [
       "<div>\n",
       "<style scoped>\n",
       "    .dataframe tbody tr th:only-of-type {\n",
       "        vertical-align: middle;\n",
       "    }\n",
       "\n",
       "    .dataframe tbody tr th {\n",
       "        vertical-align: top;\n",
       "    }\n",
       "\n",
       "    .dataframe thead th {\n",
       "        text-align: right;\n",
       "    }\n",
       "</style>\n",
       "<table border=\"1\" class=\"dataframe\">\n",
       "  <thead>\n",
       "    <tr style=\"text-align: right;\">\n",
       "      <th></th>\n",
       "      <th>CRIM</th>\n",
       "      <th>ZN</th>\n",
       "      <th>INDUS</th>\n",
       "      <th>CHAS</th>\n",
       "      <th>NOX</th>\n",
       "      <th>RM</th>\n",
       "      <th>AGE</th>\n",
       "      <th>DIS</th>\n",
       "      <th>RAD</th>\n",
       "      <th>TAX</th>\n",
       "      <th>PTRATIO</th>\n",
       "      <th>B</th>\n",
       "      <th>LSTAT</th>\n",
       "      <th>MEDV</th>\n",
       "    </tr>\n",
       "  </thead>\n",
       "  <tbody>\n",
       "    <tr>\n",
       "      <th>count</th>\n",
       "      <td>506.000000</td>\n",
       "      <td>506.000000</td>\n",
       "      <td>506.000000</td>\n",
       "      <td>506.000000</td>\n",
       "      <td>506.000000</td>\n",
       "      <td>506.000000</td>\n",
       "      <td>506.000000</td>\n",
       "      <td>506.000000</td>\n",
       "      <td>506.000000</td>\n",
       "      <td>506.000000</td>\n",
       "      <td>506.000000</td>\n",
       "      <td>506.000000</td>\n",
       "      <td>506.000000</td>\n",
       "      <td>506.000000</td>\n",
       "    </tr>\n",
       "    <tr>\n",
       "      <th>mean</th>\n",
       "      <td>3.613524</td>\n",
       "      <td>11.363636</td>\n",
       "      <td>11.136779</td>\n",
       "      <td>0.069170</td>\n",
       "      <td>0.554695</td>\n",
       "      <td>6.284634</td>\n",
       "      <td>68.574901</td>\n",
       "      <td>3.795043</td>\n",
       "      <td>9.549407</td>\n",
       "      <td>408.237154</td>\n",
       "      <td>18.455534</td>\n",
       "      <td>356.674032</td>\n",
       "      <td>12.653063</td>\n",
       "      <td>22.532806</td>\n",
       "    </tr>\n",
       "    <tr>\n",
       "      <th>std</th>\n",
       "      <td>8.601545</td>\n",
       "      <td>23.322453</td>\n",
       "      <td>6.860353</td>\n",
       "      <td>0.253994</td>\n",
       "      <td>0.115878</td>\n",
       "      <td>0.702617</td>\n",
       "      <td>28.148861</td>\n",
       "      <td>2.105710</td>\n",
       "      <td>8.707259</td>\n",
       "      <td>168.537116</td>\n",
       "      <td>2.164946</td>\n",
       "      <td>91.294864</td>\n",
       "      <td>7.141062</td>\n",
       "      <td>9.197104</td>\n",
       "    </tr>\n",
       "    <tr>\n",
       "      <th>min</th>\n",
       "      <td>0.006320</td>\n",
       "      <td>0.000000</td>\n",
       "      <td>0.460000</td>\n",
       "      <td>0.000000</td>\n",
       "      <td>0.385000</td>\n",
       "      <td>3.561000</td>\n",
       "      <td>2.900000</td>\n",
       "      <td>1.129600</td>\n",
       "      <td>1.000000</td>\n",
       "      <td>187.000000</td>\n",
       "      <td>12.600000</td>\n",
       "      <td>0.320000</td>\n",
       "      <td>1.730000</td>\n",
       "      <td>5.000000</td>\n",
       "    </tr>\n",
       "    <tr>\n",
       "      <th>25%</th>\n",
       "      <td>0.082045</td>\n",
       "      <td>0.000000</td>\n",
       "      <td>5.190000</td>\n",
       "      <td>0.000000</td>\n",
       "      <td>0.449000</td>\n",
       "      <td>5.885500</td>\n",
       "      <td>45.025000</td>\n",
       "      <td>2.100175</td>\n",
       "      <td>4.000000</td>\n",
       "      <td>279.000000</td>\n",
       "      <td>17.400000</td>\n",
       "      <td>375.377500</td>\n",
       "      <td>6.950000</td>\n",
       "      <td>17.025000</td>\n",
       "    </tr>\n",
       "    <tr>\n",
       "      <th>50%</th>\n",
       "      <td>0.256510</td>\n",
       "      <td>0.000000</td>\n",
       "      <td>9.690000</td>\n",
       "      <td>0.000000</td>\n",
       "      <td>0.538000</td>\n",
       "      <td>6.208500</td>\n",
       "      <td>77.500000</td>\n",
       "      <td>3.207450</td>\n",
       "      <td>5.000000</td>\n",
       "      <td>330.000000</td>\n",
       "      <td>19.050000</td>\n",
       "      <td>391.440000</td>\n",
       "      <td>11.360000</td>\n",
       "      <td>21.200000</td>\n",
       "    </tr>\n",
       "    <tr>\n",
       "      <th>75%</th>\n",
       "      <td>3.677083</td>\n",
       "      <td>12.500000</td>\n",
       "      <td>18.100000</td>\n",
       "      <td>0.000000</td>\n",
       "      <td>0.624000</td>\n",
       "      <td>6.623500</td>\n",
       "      <td>94.075000</td>\n",
       "      <td>5.188425</td>\n",
       "      <td>24.000000</td>\n",
       "      <td>666.000000</td>\n",
       "      <td>20.200000</td>\n",
       "      <td>396.225000</td>\n",
       "      <td>16.955000</td>\n",
       "      <td>25.000000</td>\n",
       "    </tr>\n",
       "    <tr>\n",
       "      <th>max</th>\n",
       "      <td>88.976200</td>\n",
       "      <td>100.000000</td>\n",
       "      <td>27.740000</td>\n",
       "      <td>1.000000</td>\n",
       "      <td>0.871000</td>\n",
       "      <td>8.780000</td>\n",
       "      <td>100.000000</td>\n",
       "      <td>12.126500</td>\n",
       "      <td>24.000000</td>\n",
       "      <td>711.000000</td>\n",
       "      <td>22.000000</td>\n",
       "      <td>396.900000</td>\n",
       "      <td>37.970000</td>\n",
       "      <td>50.000000</td>\n",
       "    </tr>\n",
       "  </tbody>\n",
       "</table>\n",
       "</div>"
      ],
      "text/plain": [
       "             CRIM          ZN       INDUS        CHAS         NOX          RM  \\\n",
       "count  506.000000  506.000000  506.000000  506.000000  506.000000  506.000000   \n",
       "mean     3.613524   11.363636   11.136779    0.069170    0.554695    6.284634   \n",
       "std      8.601545   23.322453    6.860353    0.253994    0.115878    0.702617   \n",
       "min      0.006320    0.000000    0.460000    0.000000    0.385000    3.561000   \n",
       "25%      0.082045    0.000000    5.190000    0.000000    0.449000    5.885500   \n",
       "50%      0.256510    0.000000    9.690000    0.000000    0.538000    6.208500   \n",
       "75%      3.677083   12.500000   18.100000    0.000000    0.624000    6.623500   \n",
       "max     88.976200  100.000000   27.740000    1.000000    0.871000    8.780000   \n",
       "\n",
       "              AGE         DIS         RAD         TAX     PTRATIO           B  \\\n",
       "count  506.000000  506.000000  506.000000  506.000000  506.000000  506.000000   \n",
       "mean    68.574901    3.795043    9.549407  408.237154   18.455534  356.674032   \n",
       "std     28.148861    2.105710    8.707259  168.537116    2.164946   91.294864   \n",
       "min      2.900000    1.129600    1.000000  187.000000   12.600000    0.320000   \n",
       "25%     45.025000    2.100175    4.000000  279.000000   17.400000  375.377500   \n",
       "50%     77.500000    3.207450    5.000000  330.000000   19.050000  391.440000   \n",
       "75%     94.075000    5.188425   24.000000  666.000000   20.200000  396.225000   \n",
       "max    100.000000   12.126500   24.000000  711.000000   22.000000  396.900000   \n",
       "\n",
       "            LSTAT        MEDV  \n",
       "count  506.000000  506.000000  \n",
       "mean    12.653063   22.532806  \n",
       "std      7.141062    9.197104  \n",
       "min      1.730000    5.000000  \n",
       "25%      6.950000   17.025000  \n",
       "50%     11.360000   21.200000  \n",
       "75%     16.955000   25.000000  \n",
       "max     37.970000   50.000000  "
      ]
     },
     "execution_count": 21,
     "metadata": {},
     "output_type": "execute_result"
    }
   ],
   "source": [
    "df.describe() # some statistics "
   ]
  },
  {
   "cell_type": "code",
   "execution_count": 22,
   "id": "592dd9e1",
   "metadata": {},
   "outputs": [
    {
     "data": {
      "text/html": [
       "<div>\n",
       "<style scoped>\n",
       "    .dataframe tbody tr th:only-of-type {\n",
       "        vertical-align: middle;\n",
       "    }\n",
       "\n",
       "    .dataframe tbody tr th {\n",
       "        vertical-align: top;\n",
       "    }\n",
       "\n",
       "    .dataframe thead th {\n",
       "        text-align: right;\n",
       "    }\n",
       "</style>\n",
       "<table border=\"1\" class=\"dataframe\">\n",
       "  <thead>\n",
       "    <tr style=\"text-align: right;\">\n",
       "      <th></th>\n",
       "      <th>CRIM</th>\n",
       "      <th>ZN</th>\n",
       "      <th>INDUS</th>\n",
       "      <th>CHAS</th>\n",
       "      <th>NOX</th>\n",
       "      <th>RM</th>\n",
       "      <th>AGE</th>\n",
       "      <th>DIS</th>\n",
       "      <th>RAD</th>\n",
       "      <th>TAX</th>\n",
       "      <th>PTRATIO</th>\n",
       "      <th>B</th>\n",
       "      <th>LSTAT</th>\n",
       "      <th>MEDV</th>\n",
       "    </tr>\n",
       "  </thead>\n",
       "  <tbody>\n",
       "    <tr>\n",
       "      <th>0</th>\n",
       "      <td>0.00632</td>\n",
       "      <td>18.0</td>\n",
       "      <td>2.31</td>\n",
       "      <td>0.0</td>\n",
       "      <td>0.538</td>\n",
       "      <td>6.575</td>\n",
       "      <td>65.2</td>\n",
       "      <td>4.0900</td>\n",
       "      <td>1.0</td>\n",
       "      <td>296.0</td>\n",
       "      <td>15.3</td>\n",
       "      <td>396.90</td>\n",
       "      <td>4.98</td>\n",
       "      <td>24.0</td>\n",
       "    </tr>\n",
       "    <tr>\n",
       "      <th>1</th>\n",
       "      <td>0.02731</td>\n",
       "      <td>0.0</td>\n",
       "      <td>7.07</td>\n",
       "      <td>0.0</td>\n",
       "      <td>0.469</td>\n",
       "      <td>6.421</td>\n",
       "      <td>78.9</td>\n",
       "      <td>4.9671</td>\n",
       "      <td>2.0</td>\n",
       "      <td>242.0</td>\n",
       "      <td>17.8</td>\n",
       "      <td>396.90</td>\n",
       "      <td>9.14</td>\n",
       "      <td>21.6</td>\n",
       "    </tr>\n",
       "    <tr>\n",
       "      <th>2</th>\n",
       "      <td>0.02729</td>\n",
       "      <td>0.0</td>\n",
       "      <td>7.07</td>\n",
       "      <td>0.0</td>\n",
       "      <td>0.469</td>\n",
       "      <td>7.185</td>\n",
       "      <td>61.1</td>\n",
       "      <td>4.9671</td>\n",
       "      <td>2.0</td>\n",
       "      <td>242.0</td>\n",
       "      <td>17.8</td>\n",
       "      <td>392.83</td>\n",
       "      <td>4.03</td>\n",
       "      <td>34.7</td>\n",
       "    </tr>\n",
       "    <tr>\n",
       "      <th>3</th>\n",
       "      <td>0.03237</td>\n",
       "      <td>0.0</td>\n",
       "      <td>2.18</td>\n",
       "      <td>0.0</td>\n",
       "      <td>0.458</td>\n",
       "      <td>6.998</td>\n",
       "      <td>45.8</td>\n",
       "      <td>6.0622</td>\n",
       "      <td>3.0</td>\n",
       "      <td>222.0</td>\n",
       "      <td>18.7</td>\n",
       "      <td>394.63</td>\n",
       "      <td>2.94</td>\n",
       "      <td>33.4</td>\n",
       "    </tr>\n",
       "    <tr>\n",
       "      <th>4</th>\n",
       "      <td>0.06905</td>\n",
       "      <td>0.0</td>\n",
       "      <td>2.18</td>\n",
       "      <td>0.0</td>\n",
       "      <td>0.458</td>\n",
       "      <td>7.147</td>\n",
       "      <td>54.2</td>\n",
       "      <td>6.0622</td>\n",
       "      <td>3.0</td>\n",
       "      <td>222.0</td>\n",
       "      <td>18.7</td>\n",
       "      <td>396.90</td>\n",
       "      <td>5.33</td>\n",
       "      <td>36.2</td>\n",
       "    </tr>\n",
       "  </tbody>\n",
       "</table>\n",
       "</div>"
      ],
      "text/plain": [
       "      CRIM    ZN  INDUS  CHAS    NOX     RM   AGE     DIS  RAD    TAX  \\\n",
       "0  0.00632  18.0   2.31   0.0  0.538  6.575  65.2  4.0900  1.0  296.0   \n",
       "1  0.02731   0.0   7.07   0.0  0.469  6.421  78.9  4.9671  2.0  242.0   \n",
       "2  0.02729   0.0   7.07   0.0  0.469  7.185  61.1  4.9671  2.0  242.0   \n",
       "3  0.03237   0.0   2.18   0.0  0.458  6.998  45.8  6.0622  3.0  222.0   \n",
       "4  0.06905   0.0   2.18   0.0  0.458  7.147  54.2  6.0622  3.0  222.0   \n",
       "\n",
       "   PTRATIO       B  LSTAT  MEDV  \n",
       "0     15.3  396.90   4.98  24.0  \n",
       "1     17.8  396.90   9.14  21.6  \n",
       "2     17.8  392.83   4.03  34.7  \n",
       "3     18.7  394.63   2.94  33.4  \n",
       "4     18.7  396.90   5.33  36.2  "
      ]
     },
     "execution_count": 22,
     "metadata": {},
     "output_type": "execute_result"
    }
   ],
   "source": [
    "df.head() # first rows"
   ]
  },
  {
   "cell_type": "code",
   "execution_count": 23,
   "id": "84b35975",
   "metadata": {},
   "outputs": [
    {
     "data": {
      "image/png": "[encoded data removed]",
      "text/plain": [
       "<Figure size 1440x1080 with 16 Axes>"
      ]
     },
     "metadata": {
      "needs_background": "light"
     },
     "output_type": "display_data"
    }
   ],
   "source": [
    "df.hist(bins = 50, figsize = (20,15))\n",
    "plt.show()"
   ]
  },
  {
   "cell_type": "markdown",
   "id": "91661964",
   "metadata": {},
   "source": [
    "In order to evaluate the quality of our future models, we separate the sample into two subsamples, the training sample and the test sample. This separation is applied simultaneously on `X` and `y`, via the `train_test_split()` function. The parameters of the regression model will be estimated using the training sample, the prediction and the evaluation of the model will be performed using the test sample."
   ]
  },
  {
   "cell_type": "code",
   "execution_count": 24,
   "id": "dad610ba",
   "metadata": {},
   "outputs": [],
   "source": [
    "X_train, X_test, y_train, y_test = train_test_split(X, y, test_size = .2, random_state = 123)"
   ]
  },
  {
   "cell_type": "markdown",
   "id": "fec8ef2c",
   "metadata": {},
   "source": [
    "- `X_train` corresponds to the training sample (80% of the observations of the dataset).\n",
    "- `X_test` corresponds to the test sample (20% of the observations of the data set).\n",
    "- `y_train` contains the values of the variable to be explained ('MEDV') of the observations in `X_train`.\n",
    "- `y_test` contains the values of the variables to explain ('MEDV') of the observations in `X_train`.\n",
    "\n",
    "## 2) Linear regression (ordinary least squares)\n",
    "\n",
    "Let's start by estimating a linear regression model by the method of linear least squares on our training sample:"
   ]
  },
  {
   "cell_type": "code",
   "execution_count": 25,
   "id": "cdfc6a00",
   "metadata": {},
   "outputs": [
    {
     "data": {
      "text/plain": [
       "LinearRegression()"
      ]
     },
     "execution_count": 25,
     "metadata": {},
     "output_type": "execute_result"
    }
   ],
   "source": [
    "# select a model\n",
    "linreg = LinearRegression() \n",
    "\n",
    "# fit the model \n",
    "linreg.fit(X_train,y_train)"
   ]
  },
  {
   "cell_type": "code",
   "execution_count": 26,
   "id": "46677276",
   "metadata": {},
   "outputs": [
    {
     "name": "stdout",
     "output_type": "stream",
     "text": [
      "R2 0.7559380876016175\n"
     ]
    }
   ],
   "source": [
    "# (R-squared)\n",
    "print(\"R2\", linreg.score(X_train,y_train))"
   ]
  },
  {
   "cell_type": "code",
   "execution_count": 27,
   "id": "95fc77f3",
   "metadata": {},
   "outputs": [
    {
     "name": "stdout",
     "output_type": "stream",
     "text": [
      "Coefficients [-9.87931696e-02  4.75027102e-02  6.69491841e-02  1.26954150e+00\n",
      " -1.54697747e+01  4.31968412e+00 -9.80167937e-04 -1.36597953e+00\n",
      "  2.84521838e-01 -1.27533606e-02 -9.13487599e-01  7.22553507e-03\n",
      " -5.43790245e-01]\n"
     ]
    }
   ],
   "source": [
    "# Coefficients  \n",
    "print(\"Coefficients\", linreg.coef_)"
   ]
  },
  {
   "cell_type": "code",
   "execution_count": 28,
   "id": "1df938f8",
   "metadata": {},
   "outputs": [
    {
     "name": "stdout",
     "output_type": "stream",
     "text": [
      "Constant 31.835164121206386\n"
     ]
    }
   ],
   "source": [
    "# Constant\n",
    "print(\"Constant\", linreg.intercept_)"
   ]
  },
  {
   "cell_type": "markdown",
   "id": "d13b6c1d",
   "metadata": {},
   "source": [
    "In order to evaluate the model, we need to predict the values of the variable $y$ for the observations of the test sample (these obervations were not used to estimate the above parameters). We will note this estimate $\\hat{y}$."
   ]
  },
  {
   "cell_type": "code",
   "execution_count": 29,
   "id": "97d6cba9",
   "metadata": {},
   "outputs": [
    {
     "name": "stdout",
     "output_type": "stream",
     "text": [
      "[16.00330023 27.79447431 39.26769478 18.32613556 30.45487494 37.67724152\n",
      " 25.28488162 10.22712629 14.82537224 31.99311717 28.98969206 19.17253244\n",
      " 13.77310754 31.69400164 16.51057791 21.43127305 20.36911404 37.50141667\n",
      " 18.10978575 15.81266015 13.80299258 24.48033748 32.93389583 39.42064642\n",
      " 31.48120599 22.36455033 17.60924332 20.94828713 23.4130816  20.38151773\n",
      " 25.79402412 34.04473076 15.11357401 21.91097373 24.05551144 34.58404676\n",
      " 29.34099148 18.2535874  13.95709552 38.23179838 31.0049878  18.74606681\n",
      " 19.72857941 40.31936227  8.19674997 27.30047872 19.28830095 25.58425976\n",
      " 15.4961129  25.86694355 34.87324014 24.25453569 19.61772711 12.47561892\n",
      " 24.42804102 17.9505124   9.69615055  2.3378285  31.80311538 13.65050017\n",
      " 20.05798605 22.5516387  20.0245067  17.85753966 25.0631636  27.19590817\n",
      " 25.97988145 22.09920138 24.66187205 30.39210736 20.40773803 28.56421717\n",
      " 15.32650231 24.51102542 19.64891977 18.27221528 17.81706469 16.75705603\n",
      " 28.93420488 -0.78820782 32.57992382 12.60054661 25.00158929 20.99214682\n",
      " 14.89253587 22.47495475 18.27373166 25.06851564 19.28541015 32.23198059\n",
      " 15.52270591 34.59385958 23.04873605 25.32161122 31.11752726 28.46497366\n",
      " 19.01649172 31.25083255 26.61047872 36.45595724 16.52414365 16.62662097]\n"
     ]
    }
   ],
   "source": [
    "y_pred = linreg.predict(X_test) # predict values of y for the test sample\n",
    "\n",
    "print(y_pred)"
   ]
  },
  {
   "cell_type": "markdown",
   "id": "2443a655",
   "metadata": {},
   "source": [
    "We can now calculate the coefficient of determination $R^2$ and the mean squared error (MSE). \n",
    "\n",
    "$$ R^2 = 1 - \\frac{\\sum_{i=1}^{n_{test}} (y_i - \\hat{y}_i)^2}{\\sum_{i=1}^{n_{test}} (y_i - \\bar{y})^2}$$\n",
    "\n",
    "$$ MSE = \\frac{1}{n_{test}}\\sum_{i=1}^{n_{test}} (y_i - \\hat{y}_i)^2$$"
   ]
  },
  {
   "cell_type": "code",
   "execution_count": 30,
   "id": "c20f19e3",
   "metadata": {},
   "outputs": [
    {
     "name": "stdout",
     "output_type": "stream",
     "text": [
      "R-squared 0.6592466510354097\n",
      "MSE 28.192485758469548\n"
     ]
    }
   ],
   "source": [
    "print(\"R-squared\", r2_score(y_test,y_pred))\n",
    "print(\"MSE\", mean_squared_error(y_test, y_pred)) "
   ]
  },
  {
   "cell_type": "markdown",
   "id": "51e7cca9",
   "metadata": {},
   "source": [
    "## 3) Linear regression (stochastic gradient descent)\n",
    "\n",
    "Here, we use the gradient descent algorithm to estimate the parameters of the linear model. This algorithm is iterative and requires the choice of the learning rate (noted here `eta0`). It is preferable to standardize the data to facilitate the convergence of this algorithm, for that we can create a \"pipeline\", which allows to define a succession of tasks to be performed. By default, the function `SGDRegressor()` considers a regularized regression, that is to say that the regularization parameter is not null, it is noted `alpha`."
   ]
  },
  {
   "cell_type": "code",
   "execution_count": 31,
   "id": "ba3763b9",
   "metadata": {},
   "outputs": [
    {
     "name": "stdout",
     "output_type": "stream",
     "text": [
      "R2 0.7535866639667201\n",
      "R-squared 0.6551078704137976\n",
      "R2 0.75239049146571\n",
      "R-squared 0.6503851662205686\n",
      "R2 0.751488852587852\n",
      "R-squared 0.647920449393216\n",
      "R2 0.7479911113530981\n",
      "R-squared 0.6420328216396851\n"
     ]
    }
   ],
   "source": [
    "valeurs = [.01, 0.005, 0.001, .0005]\n",
    "\n",
    "for i in valeurs:\n",
    "    # create a pipeline (standardization followed by unregularized SGD)\n",
    "    sgdreg = make_pipeline(StandardScaler(),\n",
    "                     SGDRegressor(alpha = 0, eta0 = i))\n",
    "    # fit the model\n",
    "    sgdreg.fit(X_train,y_train)\n",
    "    # (R-squared)\n",
    "    print(\"R2\", sgdreg.score(X_train,y_train))\n",
    "    y_pred = sgdreg.predict(X_test)\n",
    "    print(\"R-squared\", r2_score(y_test,y_pred))"
   ]
  },
  {
   "cell_type": "code",
   "execution_count": 32,
   "id": "1c4e1bb4",
   "metadata": {},
   "outputs": [
    {
     "data": {
      "text/plain": [
       "array([-0.69955851,  0.64156042, -0.16538357,  0.35631375, -0.91001273,\n",
       "        3.45937775, -0.17743803, -2.13038811,  0.90700941, -0.6574582 ,\n",
       "       -1.80735862,  0.68922395, -3.5677088 ])"
      ]
     },
     "execution_count": 32,
     "metadata": {},
     "output_type": "execute_result"
    }
   ],
   "source": [
    "# Coefficients \n",
    "sgdreg['sgdregressor'].coef_"
   ]
  },
  {
   "cell_type": "code",
   "execution_count": 33,
   "id": "3986d75f",
   "metadata": {},
   "outputs": [
    {
     "name": "stdout",
     "output_type": "stream",
     "text": [
      "Constante [22.25293902]\n"
     ]
    }
   ],
   "source": [
    "# Constant\n",
    "print(\"Constante\", sgdreg['sgdregressor'].intercept_)"
   ]
  },
  {
   "cell_type": "markdown",
   "id": "9332b9f2",
   "metadata": {},
   "source": [
    "In the same way as before, in order to evaluate the model, we need to calculate the values of $\\hat{y}$. This allows us to evaluate the model on the test sample."
   ]
  },
  {
   "cell_type": "code",
   "execution_count": 34,
   "id": "2c7e7c4d",
   "metadata": {},
   "outputs": [
    {
     "name": "stdout",
     "output_type": "stream",
     "text": [
      "R-squared 0.6420328216396851\n",
      "MSE 29.616684938205616\n"
     ]
    }
   ],
   "source": [
    "y_pred = sgdreg.predict(X_test)\n",
    "print(\"R-squared\", r2_score(y_test,y_pred))\n",
    "print(\"MSE\", mean_squared_error(y_test, y_pred))"
   ]
  },
  {
   "cell_type": "markdown",
   "id": "49b90ab6",
   "metadata": {},
   "source": [
    "## 4) Polynomial regression\n",
    "\n",
    "The performance of a regression model can be improved by adding non-linearities. Polynomial regression is done by the same method, by adding **polynomial features*. This step is added in the pipeline, before the standardization step. The `degree` parameter allows to control the degree of the polynomial."
   ]
  },
  {
   "cell_type": "code",
   "execution_count": 35,
   "id": "8a20f654",
   "metadata": {},
   "outputs": [
    {
     "name": "stdout",
     "output_type": "stream",
     "text": [
      "R2 0.8899367041154995\n"
     ]
    }
   ],
   "source": [
    "# pipeline (polynom of degree 2, standardization, SGD)\n",
    "polyreg = make_pipeline(PolynomialFeatures(degree = 2), # increase the degree coulb be interesting...\n",
    "                     StandardScaler(),\n",
    "                     SGDRegressor(alpha = 0, eta0 = 0.01)) # eta0 is the learning rate\n",
    "\n",
    "# fit the model\n",
    "polyreg.fit(X_train,y_train)\n",
    "\n",
    "# (R-squared)\n",
    "print(\"R2\", polyreg.score(X_train,y_train))"
   ]
  },
  {
   "cell_type": "markdown",
   "id": "8f46f0b9",
   "metadata": {},
   "source": [
    "The prediction and evaluation of the model is also done with the test sample."
   ]
  },
  {
   "cell_type": "code",
   "execution_count": 36,
   "id": "047bbc65",
   "metadata": {},
   "outputs": [
    {
     "name": "stdout",
     "output_type": "stream",
     "text": [
      "R-squared 0.7761156213056414\n",
      "MSE 18.523243211148632\n"
     ]
    }
   ],
   "source": [
    "y_pred = polyreg.predict(X_test)\n",
    "\n",
    "print(\"R-squared\", r2_score(y_test,y_pred))\n",
    "print(\"MSE\", mean_squared_error(y_test, y_pred))"
   ]
  },
  {
   "cell_type": "markdown",
   "id": "52a38aa5",
   "metadata": {},
   "source": [
    "One can also use ordinary least squares estimation. In this case, we remove the standardization step in the pipeline."
   ]
  },
  {
   "cell_type": "code",
   "execution_count": 37,
   "id": "4dbc7791",
   "metadata": {},
   "outputs": [
    {
     "name": "stdout",
     "output_type": "stream",
     "text": [
      "R2 0.9345654809736516\n"
     ]
    }
   ],
   "source": [
    "# pipeline (polynom of degree 2, standardization, SGD)\n",
    "polyreg = make_pipeline(PolynomialFeatures(degree = 2),\n",
    "                     LinearRegression())\n",
    "\n",
    "# fit the model\n",
    "polyreg.fit(X_train,y_train)\n",
    "\n",
    "# (R-squared)\n",
    "print(\"R2\", polyreg.score(X_train,y_train))"
   ]
  },
  {
   "cell_type": "code",
   "execution_count": 38,
   "id": "5c406e48",
   "metadata": {},
   "outputs": [
    {
     "name": "stdout",
     "output_type": "stream",
     "text": [
      "R-squared 0.824077795246448\n",
      "MSE 14.555056515757002\n"
     ]
    }
   ],
   "source": [
    "y_pred = polyreg.predict(X_test)\n",
    "\n",
    "print(\"R-squared\", r2_score(y_test,y_pred))\n",
    "print(\"MSE\", mean_squared_error(y_test, y_pred))"
   ]
  },
  {
   "cell_type": "markdown",
   "id": "6174f893",
   "metadata": {},
   "source": [
    "## 5) Evaluating a model by cross-validation\n",
    "\n",
    "Another way to evaluate the model than the train-test split is the **cross validation**. Here is an example of the calculation of the MSE (negative, which must be made positive) by cross-validation:"
   ]
  },
  {
   "cell_type": "code",
   "execution_count": 39,
   "id": "f370574d",
   "metadata": {},
   "outputs": [],
   "source": [
    "poly_scores = -cross_val_score(polyreg, X_train, y_train, scoring = \"neg_mean_squared_error\", cv = 10)\n",
    "\n",
    "# sorted(sklearn.metrics.SCORERS.keys())"
   ]
  },
  {
   "cell_type": "markdown",
   "id": "66fe073e",
   "metadata": {},
   "source": [
    "As the validation is repeated 10 times (`cv = 10`), we obtain a list of 10 values, we will consider the average of its values:"
   ]
  },
  {
   "cell_type": "code",
   "execution_count": 40,
   "id": "11688f42",
   "metadata": {},
   "outputs": [
    {
     "name": "stdout",
     "output_type": "stream",
     "text": [
      "[ 8.90191598 15.46104383  6.62872642 13.50004653 18.09755446 15.95380656\n",
      "  5.56628442 11.23228097 52.96208259 27.14498551]\n"
     ]
    }
   ],
   "source": [
    "print(poly_scores)"
   ]
  },
  {
   "cell_type": "code",
   "execution_count": 41,
   "id": "2d74c5d1",
   "metadata": {},
   "outputs": [
    {
     "name": "stdout",
     "output_type": "stream",
     "text": [
      "17.544872729668374\n"
     ]
    }
   ],
   "source": [
    "print(np.mean(poly_scores))"
   ]
  },
  {
   "cell_type": "markdown",
   "id": "86e5a005",
   "metadata": {},
   "source": [
    "We can do the same for the linear regression model `linreg` and compare the two models."
   ]
  },
  {
   "cell_type": "code",
   "execution_count": 42,
   "id": "65e224ae",
   "metadata": {},
   "outputs": [
    {
     "name": "stdout",
     "output_type": "stream",
     "text": [
      "22.572821796132082\n"
     ]
    }
   ],
   "source": [
    "lin_scores = -cross_val_score(linreg, X_train, y_train, scoring = \"neg_mean_squared_error\", cv = 10)\n",
    "print(np.mean(lin_scores))"
   ]
  },
  {
   "cell_type": "markdown",
   "id": "233a8cc2",
   "metadata": {},
   "source": [
    "If one wants to choose a model (before computing the test error), the one that minimizes the mean square error seems to be the second order polynomial regression. Can we obtain better performance by considering a higher degree of polynomial?\n",
    "\n",
    "## Exercise\n",
    "\n",
    "Reproduce this example on another data set."
   ]
  }
 ],
 "metadata": {
  "kernelspec": {
   "display_name": "Python 3",
   "language": "python",
   "name": "python3"
  },
  "language_info": {
   "codemirror_mode": {
    "name": "ipython",
    "version": 3
   },
   "file_extension": ".py",
   "mimetype": "text/x-python",
   "name": "python",
   "nbconvert_exporter": "python",
   "pygments_lexer": "ipython3",
   "version": "3.8.8"
  }
 },
 "nbformat": 4,
 "nbformat_minor": 5
}
