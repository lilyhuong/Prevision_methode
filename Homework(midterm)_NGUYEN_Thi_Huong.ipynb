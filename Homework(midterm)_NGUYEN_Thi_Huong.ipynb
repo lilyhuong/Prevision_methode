{
 "cells": [
  {
   "cell_type": "markdown",
   "metadata": {},
   "source": [
    "<br>\n",
    "\n",
    "<b><font size=22>Predictive methods</font></b>\n",
    "### (Homework - Midterm)\n",
    "\n",
    "**<font color = red>NGUYEN Thi Huong</font>**\n",
    "\n",
    "**<font color = red>MASTER 2 EBDS</font>**"
   ]
  },
  {
   "cell_type": "markdown",
   "metadata": {},
   "source": [
    "## Linear algebra, optimization and linear regression\n",
    "The purpose of this session is to learn how to handle numpy and its features in Python. \n",
    "\n",
    "The first part proposes some exercises to manipulate basic functions from numpy. Do not hesitate to visit the following\n",
    "page: https://numpy.org/doc/.\n",
    "\n",
    "The second part will focus on some monovariable optimization methods. The goal will be to implement three\n",
    "well-known methods (golden-section search, parabolic interpolation and Newton’s method). Algorithms in\n",
    "pseudo-code are provided.\n",
    "\n",
    "Finally we will work on the Boston’s housing dataset: the goal is to predict the median value of houses’\n",
    "prices in different suburbs of Boston given different features of the districts (criminality, industrialization,\n",
    "etc. . . ). \n",
    "\n",
    "You will use numpy to implement your own version of the linear regression (we call that “coding from\n",
    "scratch”). \n",
    "\n",
    "For the parameter estimation, you will use either the function minimize from the package scipy\n",
    "or your own implementation of the gradient descent algorithm (the latter is recommended, even if minimize\n",
    "is a very interesting function). \n",
    "\n",
    "Check the online help !"
   ]
  },
  {
   "cell_type": "markdown",
   "metadata": {},
   "source": [
    " Exercise: K-means from scratch\n",
    "\n",
    "In this exercise, you will code an algorithm from scratch to perform K-means clustering.\n",
    "\n",
    "## 1. Data generation process:\n",
    "\n",
    "First generate a “toy example”, a 2-dimensional dataset (only two features\n",
    "x1 and x2) in order to test your implementation. \n",
    "\n",
    "For example, by setting K = 4, you could define a simulation model specific for each cluster, as follows:\n",
    "\n",
    "* Cluster 1: x1 ∼ N (1, σ) and x2 ∼ N (1, σ)\n",
    "* Cluster 2: x1 ∼ N (1, σ) and x2 ∼ N (−1, σ)\n",
    "* Cluster 3: x1 ∼ N (−1, σ) and x2 ∼ N (−1, σ)\n",
    "* Cluster 4: x1 ∼ N (−1, σ) and x2 ∼ N (1, σ)"
   ]
  },
  {
   "cell_type": "markdown",
   "metadata": {},
   "source": [
    "## 2. Effect of parameter σ on the resulting clusters\n",
    "\n",
    "According to the previous data simulation model, setting σ = 0.1, generate K = 4 clusters, each cluster\n",
    "should contain 25 observations. Draw the corresponding scatterplot, using a different color for each\n",
    "cluster. Draw the same scatterplot for different values of σ (σ = 0.2, 0.3, 0.4, 0.5, ...). Explain the effect\n",
    "of parameter σ on the resulting clusters."
   ]
  },
  {
   "cell_type": "markdown",
   "metadata": {},
   "source": [
    "For 2 question, I will combine these question into a bloc code."
   ]
  },
  {
   "cell_type": "code",
   "execution_count": 229,
   "metadata": {},
   "outputs": [],
   "source": [
    "import numpy as np\n",
    "import pandas as pd\n",
    "import matplotlib.pyplot as plt\n",
    "np.random.seed(123)"
   ]
  },
  {
   "cell_type": "code",
   "execution_count": 226,
   "metadata": {},
   "outputs": [],
   "source": [
    "def data_generation(obs, **params):\n",
    "    distribution = params.get(\"Distribution\", \"normal\") \n",
    "    mu = params.get(\"mean\", 1)\n",
    "    sigma = params.get(\"standard_deviation\", 0.1)\n",
    "\n",
    "    df = pd.DataFrame(columns= [\"x1\", \"x2\", \"cluster\"])\n",
    "    np.random.seed(123)\n",
    "\n",
    "    for nb in range(len(mu)):   #for each column in dataframe\n",
    "        globals()[\"x\" + str(nb + 1)] = np.array([]) #initalize 2 array x1 and x2\n",
    "        for i, mean in enumerate(mu[nb]): #for each mean in a column\n",
    "            #append new array to initial array x1 and x2\n",
    "            globals()[\"cluster_\" + str(nb + 1) + str(i + 1)] = getattr(np.random, distribution)(mean, sigma, obs) #cluster_01 = np.random.distribution(1, 5, obs)\n",
    "            globals()[\"x\" + str(nb + 1)] = np.concatenate((globals()[\"x\" + str(nb + 1)], globals()[\"cluster_\" + str(nb + 1) + str(i + 1)]), axis = None)\n",
    "  \n",
    "    df = pd.concat([df, pd.DataFrame({\"x1\": x1, \"x2\": x2, })], ignore_index= True)   \n",
    "    for i in range(0, obs * len(mu[0]), obs):\n",
    "        df.loc[(df.index >= i) & (df.index < i + obs), 'cluster'] = \"Cluster\" + str(i/obs + 1)\n",
    "    return  df"
   ]
  },
  {
   "cell_type": "code",
   "execution_count": 224,
   "metadata": {},
   "outputs": [],
   "source": [
    "df = data_generation(25, mean = ([1, 1, -1, -1], [1, -1, -1, 1]))"
   ]
  },
  {
   "cell_type": "code",
   "execution_count": 228,
   "metadata": {},
   "outputs": [
    {
     "name": "stdout",
     "output_type": "stream",
     "text": [
      "          x1        x2     cluster\n",
      "0   0.891437  1.064205  Cluster1.0\n",
      "1   1.099735  0.802211  Cluster1.0\n",
      "2   1.028298  1.071226  Cluster1.0\n",
      "3   0.849371   1.25983  Cluster1.0\n",
      "4    0.94214  0.997537  Cluster1.0\n",
      "5   1.165144  1.003414  Cluster1.0\n",
      "6   0.757332  1.017955  Cluster1.0\n",
      "7   0.957109  0.813802  Cluster1.0\n",
      "8   1.126594  1.042615  Cluster1.0\n",
      "9   0.913326  0.839459  Cluster1.0\n",
      "10  0.932111  0.957232  Cluster1.0\n",
      "11  0.990529  1.124287  Cluster1.0\n",
      "12  1.149139  0.926478  Cluster1.0\n",
      "13   0.93611  1.050125  Cluster1.0\n",
      "14  0.955602  1.101274  Cluster1.0\n",
      "15  0.956565  1.027874  Cluster1.0\n",
      "16  1.220593  0.862905  Cluster1.0\n",
      "17  1.218679  0.966752  Cluster1.0\n",
      "18  1.100405  1.195941  Cluster1.0\n",
      "19  1.038619  0.797495  Cluster1.0\n",
      "20  1.073737  0.972421  Cluster1.0\n",
      "21  1.149073  0.944789  Cluster1.0\n",
      "22  0.906417  1.012075  Cluster1.0\n",
      "23  1.117583  1.074822  Cluster1.0\n",
      "24  0.874612  1.160869  Cluster1.0\n",
      "25  0.936225 -1.027023  Cluster2.0\n",
      "26  1.090711 -0.918766  Cluster2.0\n",
      "27  0.857132 -0.950026  Cluster2.0\n",
      "28  0.985993 -0.952565  Cluster2.0\n",
      "29  0.913825 -1.056392  Cluster2.0\n",
      "30  0.974438 -1.099732  Cluster2.0\n",
      "31  0.720141 -1.110004  Cluster2.0\n",
      "32  0.822847 -1.075644  Cluster2.0\n",
      "33  0.930012 -0.967831  Cluster2.0\n",
      "34  1.092746 -0.923905  Cluster2.0\n",
      "35  0.982636 -0.967653  Cluster2.0\n",
      "36  1.000285 -1.054896  Cluster2.0\n",
      "37  1.068822 -0.819403  Cluster2.0\n",
      "38  0.912046 -0.848113  Cluster2.0\n",
      "39  1.028363   -1.0354  Cluster2.0\n",
      "40  0.919463 -1.082343  Cluster2.0\n",
      "41  0.827233 -0.986979  Cluster2.0\n",
      "42   0.96091  -0.87327  Cluster2.0\n",
      "43  1.057381 -0.966724  Cluster2.0\n",
      "44  1.033859 -0.944345  Cluster2.0\n",
      "45  0.998817 -1.021208  Cluster2.0\n",
      "46  1.239237 -0.954373  Cluster2.0\n",
      "47  1.041291 -0.845546  Cluster2.0\n",
      "48  1.097874 -1.023967  Cluster2.0\n",
      "49  1.223814 -0.985669  Cluster2.0\n",
      "50 -1.129409 -0.974618  Cluster3.0\n",
      "51 -1.103879 -0.971627  Cluster3.0\n",
      "52 -0.825629 -1.141189  Cluster3.0\n",
      "53 -1.079806 -1.187687  Cluster3.0\n",
      "54 -0.997032 -1.101966  Cluster3.0\n",
      "55 -0.893068 -0.983206  Cluster3.0\n",
      "56 -0.910929 -0.944614  Cluster3.0\n",
      "57 -0.824511 -1.053067  Cluster3.0\n",
      "58 -0.850436 -0.862274  Cluster3.0\n",
      "59 -0.893061 -1.014318  Cluster3.0\n",
      "60 -1.077271 -0.997968  Cluster3.0\n",
      "61 -0.920514 -1.019396  Cluster3.0\n",
      "62 -0.968573 -0.986597  Cluster3.0\n",
      "63 -1.132627 -0.929553  Cluster3.0\n",
      "64  -0.85827 -0.933435  Cluster3.0\n",
      "65 -0.919276 -1.089842  Cluster3.0\n",
      "66 -0.995451 -0.847634  Cluster3.0\n",
      "67 -1.023309 -1.109503  Cluster3.0\n",
      "68  -1.11983 -0.992077  Cluster3.0\n",
      "69 -0.980048  -1.02744  Cluster3.0\n",
      "70 -0.953156 -1.104899  Cluster3.0\n",
      "71 -1.083115 -1.007512  Cluster3.0\n",
      "72  -0.88378 -1.074081  Cluster3.0\n",
      "73  -1.10972 -0.992709  Cluster3.0\n",
      "74  -1.21231 -0.959691  Cluster3.0\n",
      "75 -0.896027  1.147193  Cluster4.0\n",
      "76 -1.040337  1.030738  Cluster4.0\n",
      "77 -1.012603  0.938877  Cluster4.0\n",
      "78 -1.083752  0.960838  Cluster4.0\n",
      "79 -1.160596  1.013998  Cluster4.0\n",
      "80 -0.874476  1.009346  Cluster4.0\n",
      "81 -1.068887  1.145959  Cluster4.0\n",
      "82 -0.833905  1.139535  Cluster4.0\n",
      "83 -0.919269  0.964106  Cluster4.0\n",
      "84 -1.031476  0.945136  Cluster4.0\n",
      "85  -1.10859  0.744295  Cluster4.0\n",
      "86 -1.073246  0.945108  Cluster4.0\n",
      "87 -1.121252  0.902194  Cluster4.0\n",
      "88 -0.791289  0.964518  Cluster4.0\n",
      "89 -0.983556  1.039158  Cluster4.0\n",
      "90 -0.884979  1.017719  Cluster4.0\n",
      "91 -1.126735  0.997003  Cluster4.0\n",
      "92 -0.981896  1.019958  Cluster4.0\n",
      "93 -0.882214  0.987388  Cluster4.0\n",
      "94 -1.033501  1.019702  Cluster4.0\n",
      "95 -0.896889  0.676894  Cluster4.0\n",
      "96 -1.108457  0.973071  Cluster4.0\n",
      "97 -1.136347  0.988915  Cluster4.0\n",
      "98  -0.96206  0.965874  Cluster4.0\n",
      "99 -1.037918  0.978205  Cluster4.0\n"
     ]
    }
   ],
   "source": [
    "print(df.to_string())"
   ]
  },
  {
   "cell_type": "code",
   "execution_count": null,
   "metadata": {},
   "outputs": [],
   "source": []
  }
 ],
 "metadata": {
  "interpreter": {
   "hash": "40d3a090f54c6569ab1632332b64b2c03c39dcf918b08424e98f38b5ae0af88f"
  },
  "kernelspec": {
   "display_name": "Python 3.9.12 ('base')",
   "language": "python",
   "name": "python3"
  },
  "language_info": {
   "codemirror_mode": {
    "name": "ipython",
    "version": 3
   },
   "file_extension": ".py",
   "mimetype": "text/x-python",
   "name": "python",
   "nbconvert_exporter": "python",
   "pygments_lexer": "ipython3",
   "version": "3.9.12"
  },
  "orig_nbformat": 4
 },
 "nbformat": 4,
 "nbformat_minor": 2
}
