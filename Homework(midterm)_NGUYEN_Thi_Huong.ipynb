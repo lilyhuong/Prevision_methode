{
 "cells": [
  {
   "cell_type": "markdown",
   "metadata": {},
   "source": [
    "<br>\n",
    "\n",
    "<b><font size=22>Predictive methods</font></b>\n",
    "# (Homework - Midterm)\n",
    "\n",
    "**<font color = red>NGUYEN Thi Huong</font>**\n",
    "\n",
    "**<font color = red>MASTER 2 EBDS</font>**"
   ]
  },
  {
   "cell_type": "markdown",
   "metadata": {},
   "source": [
    "# Linear algebra, optimization and linear regression\n",
    "The purpose of this session is to learn how to handle numpy and its features in Python. \n",
    "\n",
    "The first part proposes some exercises to manipulate basic functions from numpy. Do not hesitate to visit the following\n",
    "page: https://numpy.org/doc/.\n",
    "\n",
    "The second part will focus on some monovariable optimization methods. The goal will be to implement three\n",
    "well-known methods (golden-section search, parabolic interpolation and Newton’s method). Algorithms in\n",
    "pseudo-code are provided.\n",
    "\n",
    "Finally we will work on the Boston’s housing dataset: the goal is to predict the median value of houses’\n",
    "prices in different suburbs of Boston given different features of the districts (criminality, industrialization,\n",
    "etc. . . ). \n",
    "\n",
    "You will use numpy to implement your own version of the linear regression (we call that “coding from\n",
    "scratch”). \n",
    "\n",
    "For the parameter estimation, you will use either the function minimize from the package scipy\n",
    "or your own implementation of the gradient descent algorithm (the latter is recommended, even if minimize\n",
    "is a very interesting function). \n",
    "\n",
    "Check the online help !"
   ]
  },
  {
   "cell_type": "markdown",
   "metadata": {},
   "source": [
    " Exercise: K-means from scratch\n",
    "\n",
    "In this exercise, you will code an algorithm from scratch to perform K-means clustering.\n",
    "\n",
    "## 1. Data generation process:\n",
    "\n",
    "First generate a “toy example”, a 2-dimensional dataset (only two features\n",
    "x1 and x2) in order to test your implementation. \n",
    "\n",
    "For example, by setting K = 4, you could define a simulation model specific for each cluster, as follows:\n",
    "\n",
    "* Cluster 1: x1 ∼ N (1, σ) and x2 ∼ N (1, σ)\n",
    "* Cluster 2: x1 ∼ N (1, σ) and x2 ∼ N (−1, σ)\n",
    "* Cluster 3: x1 ∼ N (−1, σ) and x2 ∼ N (−1, σ)\n",
    "* Cluster 4: x1 ∼ N (−1, σ) and x2 ∼ N (1, σ)"
   ]
  },
  {
   "cell_type": "markdown",
   "metadata": {},
   "source": [
    "## 2. Effect of parameter σ on the resulting clusters\n",
    "\n",
    "According to the previous data simulation model, setting σ = 0.1, generate K = 4 clusters, each cluster\n",
    "should contain 25 observations. Draw the corresponding scatterplot, using a different color for each\n",
    "cluster. Draw the same scatterplot for different values of σ (σ = 0.2, 0.3, 0.4, 0.5, ...). Explain the effect\n",
    "of parameter σ on the resulting clusters."
   ]
  },
  {
   "cell_type": "markdown",
   "metadata": {},
   "source": [
    "For 2 question, I will combine these question into a bloc code."
   ]
  },
  {
   "cell_type": "code",
   "execution_count": 560,
   "metadata": {},
   "outputs": [],
   "source": [
    "import numpy as np\n",
    "import pandas as pd\n",
    "import matplotlib.pyplot as plt\n"
   ]
  },
  {
   "cell_type": "markdown",
   "metadata": {},
   "source": [
    "To create a cluster with high dimension(in this case 2D array)from Normal distribution, we can use ``np.random.normal`` \n",
    "or ``np.random.distribution`` (may be better in this case)"
   ]
  },
  {
   "cell_type": "code",
   "execution_count": 561,
   "metadata": {},
   "outputs": [],
   "source": [
    "def data_generation(obs, **params):\n",
    "    distribution = params.get(\"Distribution\", \"normal\") \n",
    "    mu = params.get(\"mean\", 1)\n",
    "    sigma = params.get(\"standard_deviation\", 0.1)\n",
    "\n",
    "    df = pd.DataFrame(columns= [\"x1\", \"x2\", \"cluster\"])\n",
    "    np.random.seed(123)\n",
    "\n",
    "    for nb in range(len(mu)):   #for each column in dataframe\n",
    "        globals()[\"x\" + str(nb + 1)] = np.array([]) #initalize 2 array x1 and x2\n",
    "        for i, mean in enumerate(mu[nb]): #for each mean in a column\n",
    "            #append new array to initial array x1 and x2\n",
    "            globals()[\"cluster_\" + str(nb + 1) + str(i + 1)] = getattr(np.random, distribution)(mean, sigma, obs) #cluster_01 = np.random.distribution(1, 5, obs)\n",
    "            globals()[\"x\" + str(nb + 1)] = np.concatenate((globals()[\"x\" + str(nb + 1)], globals()[\"cluster_\" + str(nb + 1) + str(i + 1)]), axis = None)\n",
    "  \n",
    "    df = pd.concat([df, pd.DataFrame({\"x1\": x1, \"x2\": x2, })], ignore_index= True)   \n",
    "    for i in range(0, obs * len(mu[0]), obs):\n",
    "        df.loc[(df.index >= i) & (df.index < i + obs), 'cluster'] = \"Cluster\" + str(i/obs + 1)\n",
    "    return  df"
   ]
  },
  {
   "cell_type": "code",
   "execution_count": 1229,
   "metadata": {},
   "outputs": [],
   "source": [
    "#test function 2\n",
    "def data_generation(obs, **params):\n",
    "    distribution = params.get(\"Distribution\", \"normal\") \n",
    "    mu = params.get(\"mean\", 1)\n",
    "    sigma = params.get(\"standard_deviation\", 0.1)\n",
    "\n",
    "    df = pd.DataFrame(columns= [\"x1\", \"x2\", \"cluster\"])\n",
    "    np.random.seed(123)\n",
    "\n",
    "    for nb in range(len(mu)):   #for each column in dataframe\n",
    "        globals()[\"x\" + str(nb + 1)] = np.array([]) #initalize 2 array x1 and x2\n",
    "        for i, mean in enumerate(mu[nb]): #for each mean in a column\n",
    "            #append new array to initial array x1 and x2\n",
    "            globals()[\"cluster_\" + str(nb + 1) + str(i + 1)] = getattr(np.random, distribution)(mean, sigma, obs) #cluster_01 = np.random.distribution(1, 5, obs)\n",
    "            globals()[\"x\" + str(nb + 1)] = np.concatenate((globals()[\"x\" + str(nb + 1)], globals()[\"cluster_\" + str(nb + 1) + str(i + 1)]), axis = None)\n",
    "  \n",
    "    df = pd.concat([df, pd.DataFrame({\"x1\": x1, \"x2\": x2, })], ignore_index= True)   \n",
    "    for i in range(0, obs * len(mu[0]), obs):\n",
    "        df.loc[(df.index >= i) & (df.index < i + obs), 'cluster'] = i/obs + 1\n",
    "    return  df"
   ]
  },
  {
   "cell_type": "code",
   "execution_count": 1362,
   "metadata": {},
   "outputs": [],
   "source": [
    "df = data_generation(25, mean = ([1, 1, -1, -1], [1, -1, -1, 1]))"
   ]
  },
  {
   "cell_type": "code",
   "execution_count": 1231,
   "metadata": {},
   "outputs": [
    {
     "name": "stdout",
     "output_type": "stream",
     "text": [
      "          x1        x2 cluster\n",
      "0   0.891437  1.064205     1.0\n",
      "1   1.099735  0.802211     1.0\n",
      "2   1.028298  1.071226     1.0\n",
      "3   0.849371   1.25983     1.0\n",
      "4    0.94214  0.997537     1.0\n",
      "5   1.165144  1.003414     1.0\n",
      "6   0.757332  1.017955     1.0\n",
      "7   0.957109  0.813802     1.0\n",
      "8   1.126594  1.042615     1.0\n",
      "9   0.913326  0.839459     1.0\n",
      "10  0.932111  0.957232     1.0\n",
      "11  0.990529  1.124287     1.0\n",
      "12  1.149139  0.926478     1.0\n",
      "13   0.93611  1.050125     1.0\n",
      "14  0.955602  1.101274     1.0\n",
      "15  0.956565  1.027874     1.0\n",
      "16  1.220593  0.862905     1.0\n",
      "17  1.218679  0.966752     1.0\n",
      "18  1.100405  1.195941     1.0\n",
      "19  1.038619  0.797495     1.0\n",
      "20  1.073737  0.972421     1.0\n",
      "21  1.149073  0.944789     1.0\n",
      "22  0.906417  1.012075     1.0\n",
      "23  1.117583  1.074822     1.0\n",
      "24  0.874612  1.160869     1.0\n",
      "25  0.936225 -1.027023     2.0\n",
      "26  1.090711 -0.918766     2.0\n",
      "27  0.857132 -0.950026     2.0\n",
      "28  0.985993 -0.952565     2.0\n",
      "29  0.913825 -1.056392     2.0\n",
      "30  0.974438 -1.099732     2.0\n",
      "31  0.720141 -1.110004     2.0\n",
      "32  0.822847 -1.075644     2.0\n",
      "33  0.930012 -0.967831     2.0\n",
      "34  1.092746 -0.923905     2.0\n",
      "35  0.982636 -0.967653     2.0\n",
      "36  1.000285 -1.054896     2.0\n",
      "37  1.068822 -0.819403     2.0\n",
      "38  0.912046 -0.848113     2.0\n",
      "39  1.028363   -1.0354     2.0\n",
      "40  0.919463 -1.082343     2.0\n",
      "41  0.827233 -0.986979     2.0\n",
      "42   0.96091  -0.87327     2.0\n",
      "43  1.057381 -0.966724     2.0\n",
      "44  1.033859 -0.944345     2.0\n",
      "45  0.998817 -1.021208     2.0\n",
      "46  1.239237 -0.954373     2.0\n",
      "47  1.041291 -0.845546     2.0\n",
      "48  1.097874 -1.023967     2.0\n",
      "49  1.223814 -0.985669     2.0\n",
      "50 -1.129409 -0.974618     3.0\n",
      "51 -1.103879 -0.971627     3.0\n",
      "52 -0.825629 -1.141189     3.0\n",
      "53 -1.079806 -1.187687     3.0\n",
      "54 -0.997032 -1.101966     3.0\n",
      "55 -0.893068 -0.983206     3.0\n",
      "56 -0.910929 -0.944614     3.0\n",
      "57 -0.824511 -1.053067     3.0\n",
      "58 -0.850436 -0.862274     3.0\n",
      "59 -0.893061 -1.014318     3.0\n",
      "60 -1.077271 -0.997968     3.0\n",
      "61 -0.920514 -1.019396     3.0\n",
      "62 -0.968573 -0.986597     3.0\n",
      "63 -1.132627 -0.929553     3.0\n",
      "64  -0.85827 -0.933435     3.0\n",
      "65 -0.919276 -1.089842     3.0\n",
      "66 -0.995451 -0.847634     3.0\n",
      "67 -1.023309 -1.109503     3.0\n",
      "68  -1.11983 -0.992077     3.0\n",
      "69 -0.980048  -1.02744     3.0\n",
      "70 -0.953156 -1.104899     3.0\n",
      "71 -1.083115 -1.007512     3.0\n",
      "72  -0.88378 -1.074081     3.0\n",
      "73  -1.10972 -0.992709     3.0\n",
      "74  -1.21231 -0.959691     3.0\n",
      "75 -0.896027  1.147193     4.0\n",
      "76 -1.040337  1.030738     4.0\n",
      "77 -1.012603  0.938877     4.0\n",
      "78 -1.083752  0.960838     4.0\n",
      "79 -1.160596  1.013998     4.0\n",
      "80 -0.874476  1.009346     4.0\n",
      "81 -1.068887  1.145959     4.0\n",
      "82 -0.833905  1.139535     4.0\n",
      "83 -0.919269  0.964106     4.0\n",
      "84 -1.031476  0.945136     4.0\n",
      "85  -1.10859  0.744295     4.0\n",
      "86 -1.073246  0.945108     4.0\n",
      "87 -1.121252  0.902194     4.0\n",
      "88 -0.791289  0.964518     4.0\n",
      "89 -0.983556  1.039158     4.0\n",
      "90 -0.884979  1.017719     4.0\n",
      "91 -1.126735  0.997003     4.0\n",
      "92 -0.981896  1.019958     4.0\n",
      "93 -0.882214  0.987388     4.0\n",
      "94 -1.033501  1.019702     4.0\n",
      "95 -0.896889  0.676894     4.0\n",
      "96 -1.108457  0.973071     4.0\n",
      "97 -1.136347  0.988915     4.0\n",
      "98  -0.96206  0.965874     4.0\n",
      "99 -1.037918  0.978205     4.0\n"
     ]
    }
   ],
   "source": [
    "print(df.to_string())"
   ]
  },
  {
   "cell_type": "code",
   "execution_count": 1240,
   "metadata": {},
   "outputs": [
    {
     "data": {
      "text/plain": [
       "x1         float64\n",
       "x2         float64\n",
       "cluster     object\n",
       "dtype: object"
      ]
     },
     "execution_count": 1240,
     "metadata": {},
     "output_type": "execute_result"
    }
   ],
   "source": [
    "df.dtypes"
   ]
  },
  {
   "cell_type": "code",
   "execution_count": 1363,
   "metadata": {},
   "outputs": [],
   "source": [
    "df[\"x1\"] = df[\"x1\"].astype(float)\n",
    "df[\"x2\"] = df[\"x2\"].astype(float)"
   ]
  },
  {
   "cell_type": "code",
   "execution_count": 1233,
   "metadata": {},
   "outputs": [
    {
     "data": {
      "image/png": "[encoded data removed]",
      "text/plain": [
       "<Figure size 432x288 with 1 Axes>"
      ]
     },
     "metadata": {
      "needs_background": "light"
     },
     "output_type": "display_data"
    }
   ],
   "source": [
    "import seaborn as sns\n",
    "sns.scatterplot(data = df, x = \"x1\", y = \"x2\", hue= 'cluster' , palette=\"deep\")\n",
    "plt.show()"
   ]
  },
  {
   "cell_type": "code",
   "execution_count": 1234,
   "metadata": {},
   "outputs": [],
   "source": [
    "# colors = {1:'red', 2:'green', 3:'blue', 4:'salmon'}\n",
    "# plt.scatter(df.x1, df.x2, c= df['cluster'].map(colors) )"
   ]
  },
  {
   "cell_type": "code",
   "execution_count": 1209,
   "metadata": {},
   "outputs": [
    {
     "data": {
      "image/png": "[encoded data removed]",
      "text/plain": [
       "<Figure size 432x288 with 1 Axes>"
      ]
     },
     "metadata": {
      "needs_background": "light"
     },
     "output_type": "display_data"
    },
    {
     "data": {
      "image/png": "[encoded data removed]",
      "text/plain": [
       "<Figure size 432x288 with 1 Axes>"
      ]
     },
     "metadata": {
      "needs_background": "light"
     },
     "output_type": "display_data"
    },
    {
     "data": {
      "image/png": "[encoded data removed]",
      "text/plain": [
       "<Figure size 432x288 with 1 Axes>"
      ]
     },
     "metadata": {
      "needs_background": "light"
     },
     "output_type": "display_data"
    },
    {
     "data": {
      "image/png": "[encoded data removed]",
      "text/plain": [
       "<Figure size 432x288 with 1 Axes>"
      ]
     },
     "metadata": {
      "needs_background": "light"
     },
     "output_type": "display_data"
    },
    {
     "data": {
      "image/png": "[encoded data removed]",
      "text/plain": [
       "<Figure size 432x288 with 1 Axes>"
      ]
     },
     "metadata": {
      "needs_background": "light"
     },
     "output_type": "display_data"
    }
   ],
   "source": [
    "for i in range(1, 6):\n",
    "    globals()[\"df\" + str(i)]  = data_generation(25, mean = ([1, 1, -1, -1], [1, -1, -1, 1]), standard_deviation = i/10)\n",
    "    plt.scatter(globals()[\"df\" + str(i)].x1, globals()[\"df\" + str(i)].x2, c= globals()[\"df\" + str(i)]['cluster'].map(colors) )\n",
    "    plt.show()"
   ]
  },
  {
   "cell_type": "markdown",
   "metadata": {},
   "source": [
    "## 3. K cluster centroids\n",
    "The training dataset should be a matrix X ∈ R n×2 (n = 25K observations and 2 features). Propose a way to initialize K-means, in other words: randomly pick K cluster centroids µ1, µ2, ..., µK."
   ]
  },
  {
   "cell_type": "markdown",
   "metadata": {},
   "source": [
    "### Random pick K clusters centroids out of sample "
   ]
  },
  {
   "cell_type": "code",
   "execution_count": 1210,
   "metadata": {},
   "outputs": [],
   "source": [
    "#np.random.seed(123)\n",
    "df_centroids = pd.DataFrame(columns= [\"x1\", \"x2\"])\n",
    "cov = [[0.1, 0], [0, 0.1]]\n",
    "mean = [np.random.uniform(-1, 1), np.random.uniform(-1, 1)]\n",
    "x1, x2 = np.random.multivariate_normal(mean, cov, 4).T\n",
    "df_centroids = pd.concat([df_centroids, pd.DataFrame({\"x1\": x1, \"x2\": x2, })], ignore_index= True)  "
   ]
  },
  {
   "cell_type": "markdown",
   "metadata": {},
   "source": [
    "### Random pick K clusters centroids in our sample "
   ]
  },
  {
   "cell_type": "code",
   "execution_count": 1211,
   "metadata": {},
   "outputs": [],
   "source": [
    "#df_centroids = pd.DataFrame(columns= [\"x1\", \"x2\"])\n",
    "np.random.seed(123)\n",
    "centroids = []\n",
    "for k in range(4):\n",
    "    centroid = df[[\"x1\", \"x2\"]].apply(lambda x: float(x.sample()))\n",
    "    centroids.append(centroid)\n",
    "df_centroids = pd.concat(centroids , axis = 1).T  "
   ]
  },
  {
   "cell_type": "code",
   "execution_count": 1212,
   "metadata": {},
   "outputs": [],
   "source": [
    "def intialization_centroids(K, data):\n",
    "    np.random.seed(123)\n",
    "    centroids = []\n",
    "    for k in range(K):\n",
    "        centroid = data[[\"x1\", \"x2\"]].apply(lambda x: float(x.sample()))\n",
    "        centroids.append(centroid)\n",
    "    df_centroids = pd.concat(centroids , axis = 1).T \n",
    "    return df_centroids "
   ]
  },
  {
   "cell_type": "code",
   "execution_count": 1213,
   "metadata": {},
   "outputs": [],
   "source": [
    "df_centroids = intialization_centroids(4, df)"
   ]
  },
  {
   "cell_type": "code",
   "execution_count": 1214,
   "metadata": {},
   "outputs": [
    {
     "data": {
      "text/html": [
       "<div>\n",
       "<style scoped>\n",
       "    .dataframe tbody tr th:only-of-type {\n",
       "        vertical-align: middle;\n",
       "    }\n",
       "\n",
       "    .dataframe tbody tr th {\n",
       "        vertical-align: top;\n",
       "    }\n",
       "\n",
       "    .dataframe thead th {\n",
       "        text-align: right;\n",
       "    }\n",
       "</style>\n",
       "<table border=\"1\" class=\"dataframe\">\n",
       "  <thead>\n",
       "    <tr style=\"text-align: right;\">\n",
       "      <th></th>\n",
       "      <th>x1</th>\n",
       "      <th>x2</th>\n",
       "    </tr>\n",
       "  </thead>\n",
       "  <tbody>\n",
       "    <tr>\n",
       "      <th>0</th>\n",
       "      <td>1.126594</td>\n",
       "      <td>0.964518</td>\n",
       "    </tr>\n",
       "    <tr>\n",
       "      <th>1</th>\n",
       "      <td>0.990529</td>\n",
       "      <td>1.050125</td>\n",
       "    </tr>\n",
       "    <tr>\n",
       "      <th>2</th>\n",
       "      <td>0.906417</td>\n",
       "      <td>-1.053067</td>\n",
       "    </tr>\n",
       "    <tr>\n",
       "      <th>3</th>\n",
       "      <td>0.827233</td>\n",
       "      <td>-1.007512</td>\n",
       "    </tr>\n",
       "  </tbody>\n",
       "</table>\n",
       "</div>"
      ],
      "text/plain": [
       "         x1        x2\n",
       "0  1.126594  0.964518\n",
       "1  0.990529  1.050125\n",
       "2  0.906417 -1.053067\n",
       "3  0.827233 -1.007512"
      ]
     },
     "execution_count": 1214,
     "metadata": {},
     "output_type": "execute_result"
    }
   ],
   "source": [
    "df_centroids\n"
   ]
  },
  {
   "cell_type": "markdown",
   "metadata": {},
   "source": [
    "## 4. Assign to closest cluster centroid\n",
    "\n",
    "Implement the cluster assignment step: for each observation x\n",
    "(i), assign this observations to its closest\n",
    "cluster centroid, in other words compute for all i ∈ {1, ..., n}:\n"
   ]
  },
  {
   "cell_type": "code",
   "execution_count": 1215,
   "metadata": {},
   "outputs": [],
   "source": [
    "def distance(xA, yA, xB, yB): \n",
    "    distance = ((xA - xB) ** 2 + (yA - yB) ** 2) ** 0.5\n",
    "    return distance"
   ]
  },
  {
   "cell_type": "code",
   "execution_count": 1216,
   "metadata": {},
   "outputs": [],
   "source": [
    "##test \n",
    "# for i in range(4):\n",
    "#    globals()[\"df\"][i + 1]  = distance(df.iloc[:, 0], df.iloc[:, 1],df_centroids.iloc[:, 0][i], df_centroids.iloc[:, 1][i])\n",
    "# df[\"closest_centroid\"] = df.iloc[:, 3:7].idxmin(axis = 1)  "
   ]
  },
  {
   "cell_type": "code",
   "execution_count": 1217,
   "metadata": {},
   "outputs": [],
   "source": [
    "#def cluster_centroid()\n",
    "def cluster_centroid(data, data_centroids):\n",
    "    df = data\n",
    "    d = f'{df=}'.split('=')[0]\n",
    "    for i in range(4):        \n",
    "        globals()[d][i + 1] = distance(data.iloc[:, 0], data.iloc[:, 1],data_centroids.iloc[:, 0][i], data_centroids.iloc[:, 1][i])\n",
    "    data[\"closest_centroid\"] = data.iloc[:, 3:7].idxmin(axis = 1) "
   ]
  },
  {
   "cell_type": "code",
   "execution_count": 1218,
   "metadata": {},
   "outputs": [],
   "source": [
    "cluster_centroid(df, df_centroids)"
   ]
  },
  {
   "cell_type": "code",
   "execution_count": 1219,
   "metadata": {},
   "outputs": [
    {
     "name": "stdout",
     "output_type": "stream",
     "text": [
      "          x1        x2 cluster         1         2         3         4  closest_centroid\n",
      "0   0.891437  1.064205     1.0  0.255414  0.100088  2.117326  2.072712                 2\n",
      "1   1.099735  0.802211     1.0  0.164514  0.270900  1.865323  1.830124                 1\n",
      "2   1.028298  1.071226     1.0  0.145082  0.043264  2.127788  2.088440                 2\n",
      "3   0.849371  1.259830     1.0  0.405046  0.252789  2.313601  2.267451                 2\n",
      "4   0.942140  0.997537     1.0  0.187386  0.071463  2.050916  2.008339                 2\n",
      "5   1.165144  1.003414     1.0  0.054764  0.180754  2.072693  2.039119                 1\n",
      "6   0.757332  1.017955     1.0  0.373108  0.235406  2.076381  2.026673                 2\n",
      "7   0.957109  0.813802     1.0  0.226804  0.238674  1.867558  1.825939                 1\n",
      "8   1.126594  1.042615     1.0  0.078097  0.136272  2.107217  2.071868                 1\n",
      "9   0.913326  0.839459     1.0  0.247230  0.224367  1.892539  1.848977                 2\n",
      "10  0.932111  0.957232     1.0  0.194619  0.109735  2.010464  1.967541                 2\n",
      "11  0.990529  1.124287     1.0  0.209857  0.074162  2.178978  2.138044                 2\n",
      "12  1.149139  0.926478     1.0  0.044219  0.201111  1.994371  1.960597                 1\n",
      "13  0.936110  1.050125     1.0  0.208837  0.054419  2.103402  2.060515                 2\n",
      "14  0.955602  1.101274     1.0  0.218953  0.061937  2.154903  2.112689                 2\n",
      "15  0.956565  1.027874     1.0  0.181449  0.040604  2.081546  2.039491                 2\n",
      "16  1.220593  0.862905     1.0  0.138423  0.296615  1.941561  1.911333                 1\n",
      "17  1.218679  0.966752     1.0  0.092112  0.242906  2.043815  2.012697                 1\n",
      "18  1.100405  1.195941     1.0  0.232901  0.182579  2.257359  2.220322                 2\n",
      "19  1.038619  0.797495     1.0  0.188775  0.257166  1.855279  1.817343                 1\n",
      "20  1.073737  0.972421     1.0  0.053444  0.113848  2.032388  1.995219                 1\n",
      "21  1.149073  0.944789     1.0  0.029909  0.190347  2.012539  1.978651                 1\n",
      "22  0.906417  1.012075     1.0  0.225255  0.092319  2.065142  2.021139                 2\n",
      "23  1.117583  1.074822     1.0  0.110671  0.129432  2.138341  2.102479                 1\n",
      "24  0.874612  1.160869     1.0  0.319451  0.160316  2.214165  2.168899                 2\n",
      "25  0.936225 -1.027023     2.0  2.000619  2.077858  0.039583  0.110724                 3\n",
      "26  1.090711 -0.918766     2.0  1.883625  1.971438  0.228038  0.278022                 3\n",
      "27  0.857132 -0.950026     2.0  1.933413  2.004594  0.114221  0.064797                 4\n",
      "28  0.985993 -0.952565     2.0  1.922232  2.002695  0.128192  0.168000                 3\n",
      "29  0.913825 -1.056392     2.0  2.032080  2.107913  0.008120  0.099435                 3\n",
      "30  0.974438 -1.099732     2.0  2.069850  2.149917  0.082489  0.173706                 3\n",
      "31  0.720141 -1.110004     2.0  2.113964  2.176986  0.194783  0.148234                 4\n",
      "32  0.822847 -1.075644     2.0  2.062649  2.132372  0.086566  0.068273                 4\n",
      "33  0.930012 -0.967831     2.0  1.942322  2.018863  0.088442  0.110173                 3\n",
      "34  1.092746 -0.923905     2.0  1.888726  1.976675  0.226719  0.278366                 3\n",
      "35  0.982636 -0.967653     2.0  1.937526  2.017793  0.114477  0.160434                 3\n",
      "36  1.000285 -1.054896     2.0  2.023359  2.105043  0.093886  0.179421                 3\n",
      "37  1.068822 -0.819403     2.0  1.784856  1.871167  0.284561  0.306187                 3\n",
      "38  0.912046 -0.848113     2.0  1.825284  1.899860  0.205031  0.180558                 4\n",
      "39  1.028363 -1.035400     2.0  2.002329  2.085868  0.123219  0.203054                 3\n",
      "40  0.919463 -1.082343     2.0  2.057314  2.133652  0.032051  0.118769                 3\n",
      "41  0.827233 -0.986979     2.0  1.974324  2.043638  0.103140  0.020534                 4\n",
      "42  0.960910 -0.873270     2.0  1.845241  1.923623  0.187874  0.189448                 3\n",
      "43  1.057381 -0.966724     2.0  1.932481  2.017956  0.173912  0.233734                 3\n",
      "44  1.033859 -0.944345     2.0  1.911114  1.994941  0.167517  0.216066                 3\n",
      "45  0.998817 -1.021208     2.0  1.989832  2.071349  0.097739  0.172130                 3\n",
      "46  1.239237 -0.954373     2.0  1.922194  2.019868  0.347145  0.415416                 3\n",
      "47  1.041291 -0.845546     2.0  1.812072  1.896350  0.247501  0.268429                 3\n",
      "48  1.097874 -1.023967     2.0  1.988692  2.076868  0.193656  0.271140                 3\n",
      "49  1.223814 -0.985669     2.0  1.952609  2.049117  0.324475  0.397182                 3\n",
      "50 -1.129409 -0.974618     3.0  2.974860  2.931505  2.037336  1.956918                 4\n",
      "51 -1.103879 -0.971627     3.0  2.953585  2.911018  2.011944  1.931445                 4\n",
      "52 -0.825629 -1.141189     3.0  2.871441  2.846100  1.734286  1.658259                 4\n",
      "53 -1.079806 -1.187687     3.0  3.082237  3.048621  1.990780  1.915532                 4\n",
      "54 -0.997032 -1.101966     3.0  2.963130  2.929486  1.904076  1.826708                 4\n",
      "55 -0.893068 -0.983206     3.0  2.805826  2.771709  1.800841  1.720473                 4\n",
      "56 -0.910929 -0.944614     3.0  2.792183  2.755817  1.820579  1.739300                 4\n",
      "57 -0.824511 -1.053067     3.0  2.806681  2.778091  1.730928  1.652373                 4\n",
      "58 -0.850436 -0.862274     3.0  2.691805  2.654510  1.767182  1.683944                 4\n",
      "59 -0.893061 -1.014318     3.0  2.827506  2.794608  1.799895  1.720307                 4\n",
      "60 -1.077271 -0.997968     3.0  2.950995  2.910409  1.984453  1.904528                 4\n",
      "61 -0.920514 -1.019396     3.0  2.850713  2.816914  1.827241  1.747787                 4\n",
      "62 -0.968573 -0.986597     3.0  2.862966  2.826007  1.876167  1.795928                 4\n",
      "63 -1.132627 -0.929553     3.0  2.948148  2.902915  2.042781  1.961410                 4\n",
      "64 -0.858270 -0.933435     3.0  2.746253  2.711562  1.768737  1.687130                 4\n",
      "65 -0.919276 -1.089842     3.0  2.899307  2.868243  1.826063  1.748449                 4\n",
      "66 -0.995451 -0.847634     3.0  2.790513  2.746926  1.912931  1.829683                 4\n",
      "67 -1.023309 -1.109503     3.0  2.987247  2.952886  1.930551  1.853351                 4\n",
      "68 -1.119830 -0.992077     3.0  2.979041  2.936700  2.027164  1.947124                 4\n",
      "69 -0.980048 -1.027440     3.0  2.899281  2.863468  1.886638  1.807391                 4\n",
      "70 -0.953156 -1.104899     3.0  2.933913  2.902075  1.860295  1.783051                 4\n",
      "71 -1.083115 -1.007512     3.0  2.961708  2.921279  1.990054  1.910349                 4\n",
      "72 -0.883780 -1.074081     3.0  2.863125  2.832893  1.790320  1.712307                 4\n",
      "73 -1.109720 -0.992709     3.0  2.971841  2.929884  2.017040  1.937010                 4\n",
      "74 -1.212310 -0.959691     3.0  3.028704  2.981923  2.120783  2.040104                 4\n",
      "75 -0.896027  1.147193     4.0  2.030853  1.889052  2.844284  2.759054                 2\n",
      "76 -1.040337  1.030738     4.0  2.167942  2.030958  2.851683  2.764468                 2\n",
      "77 -1.012603  0.938877     4.0  2.139350  2.006219  2.765950  2.678326                 2\n",
      "78 -1.083752  0.960838     4.0  2.210348  2.076202  2.831357  2.743404                 2\n",
      "79 -1.160596  1.013998     4.0  2.287725  2.151429  2.923235  2.835131                 2\n",
      "80 -0.874476  1.009346     4.0  2.001572  1.865451  2.724909  2.638850                 2\n",
      "81 -1.068887  1.145959     4.0  2.202965  2.061645  2.955933  2.869270                 2\n",
      "82 -0.833905  1.139535     4.0  1.968295  1.826623  2.799326  2.714625                 2\n",
      "83 -0.919269  0.964106     4.0  2.045863  1.911734  2.720684  2.633923                 2\n",
      "84 -1.031476  0.945136     4.0  2.158156  2.024729  2.783567  2.695855                 2\n",
      "85 -1.108590  0.744295     4.0  2.246006  2.121281  2.700141  2.610793                 2\n",
      "86 -1.073246  0.945108     4.0  2.199925  2.066446  2.812787  2.724802                 2\n",
      "87 -1.121252  0.902194     4.0  2.248710  2.116956  2.816823  2.728291                 2\n",
      "88 -0.791289  0.964518     4.0  1.917882  1.783873  2.636826  2.551179                 2\n",
      "89 -0.983556  1.039158     4.0  2.111469  1.974115  2.819469  2.732731                 2\n",
      "90 -0.884979  1.017719     4.0  2.012276  1.875788  2.738112  2.652024                 2\n",
      "91 -1.126735  0.997003     4.0  2.253563  2.117931  2.887299  2.799299                 2\n",
      "92 -0.981896  1.019958     4.0  2.109219  1.972656  2.804133  2.717275                 2\n",
      "93 -0.882214  0.987388     4.0  2.008938  1.873793  2.713422  2.627135                 2\n",
      "94 -1.033501  1.019702     4.0  2.160799  2.024259  2.838953  2.751714                 2\n",
      "95 -0.896889  0.676894     4.0  2.043822  1.923966  2.498935  2.410357                 2\n",
      "96 -1.108457  0.973071     4.0  2.235067  2.100400  2.857438  2.769405                 2\n",
      "97 -1.136347  0.988915     4.0  2.263072  2.127757  2.888352  2.800244                 2\n",
      "98 -0.962060  0.965874     4.0  2.088654  1.954406  2.750878  2.663798                 2\n",
      "99 -1.037918  0.978205     4.0  2.164555  2.029721  2.811851  2.724309                 2\n"
     ]
    }
   ],
   "source": [
    "print(df.to_string())"
   ]
  },
  {
   "cell_type": "markdown",
   "metadata": {},
   "source": [
    "## 5. Compute the average (mean) of these observations\n",
    "\n",
    "Implement the update cluster centroid step: for each cluster k, consider the set of obervations assigned\n",
    "to cluster k, and compute the average (mean) of these observations, in other words, compute for all\n",
    "k ∈ {1, ..., K}:"
   ]
  },
  {
   "cell_type": "code",
   "execution_count": 1227,
   "metadata": {},
   "outputs": [],
   "source": [
    "# df_centroids_new = df.groupby([\"closest_centroid\"])[[\"x1\",\"x2\"]].mean().reset_index()\n",
    "# df_centroids_new\n"
   ]
  },
  {
   "cell_type": "code",
   "execution_count": 1221,
   "metadata": {},
   "outputs": [
    {
     "data": {
      "text/html": [
       "<div>\n",
       "<style scoped>\n",
       "    .dataframe tbody tr th:only-of-type {\n",
       "        vertical-align: middle;\n",
       "    }\n",
       "\n",
       "    .dataframe tbody tr th {\n",
       "        vertical-align: top;\n",
       "    }\n",
       "\n",
       "    .dataframe thead th {\n",
       "        text-align: right;\n",
       "    }\n",
       "</style>\n",
       "<table border=\"1\" class=\"dataframe\">\n",
       "  <thead>\n",
       "    <tr style=\"text-align: right;\">\n",
       "      <th></th>\n",
       "      <th>x1</th>\n",
       "      <th>x2</th>\n",
       "    </tr>\n",
       "  </thead>\n",
       "  <tbody>\n",
       "    <tr>\n",
       "      <th>0</th>\n",
       "      <td>1.119637</td>\n",
       "      <td>0.927973</td>\n",
       "    </tr>\n",
       "    <tr>\n",
       "      <th>1</th>\n",
       "      <td>-0.308103</td>\n",
       "      <td>1.010144</td>\n",
       "    </tr>\n",
       "    <tr>\n",
       "      <th>2</th>\n",
       "      <td>1.028835</td>\n",
       "      <td>-0.976051</td>\n",
       "    </tr>\n",
       "    <tr>\n",
       "      <th>3</th>\n",
       "      <td>-0.686854</td>\n",
       "      <td>-1.009256</td>\n",
       "    </tr>\n",
       "  </tbody>\n",
       "</table>\n",
       "</div>"
      ],
      "text/plain": [
       "         x1        x2\n",
       "0  1.119637  0.927973\n",
       "1 -0.308103  1.010144\n",
       "2  1.028835 -0.976051\n",
       "3 -0.686854 -1.009256"
      ]
     },
     "execution_count": 1221,
     "metadata": {},
     "output_type": "execute_result"
    }
   ],
   "source": [
    "def new_centroids(data):\n",
    "    df_centroids_new = data.groupby([\"closest_centroid\"]).mean().reset_index().iloc[:, 1:3]\n",
    "    return df_centroids_new\n",
    "    \n",
    "new_centroids(df)"
   ]
  },
  {
   "cell_type": "markdown",
   "metadata": {},
   "source": [
    "## 6. Draw again the corresponding scatterplot with the current cluster centroids \n",
    "Draw again the corresponding scatterplot, using a different color for each point in a cluster, and add\n",
    "K points representing the current cluster centroids (you should use a different symbol to distinguish\n",
    "between points and cluster centroids)."
   ]
  },
  {
   "cell_type": "markdown",
   "metadata": {},
   "source": [
    "### methode 1"
   ]
  },
  {
   "cell_type": "code",
   "execution_count": 1222,
   "metadata": {},
   "outputs": [
    {
     "data": {
      "image/png": "[encoded data removed]",
      "text/plain": [
       "<Figure size 432x288 with 1 Axes>"
      ]
     },
     "metadata": {
      "needs_background": "light"
     },
     "output_type": "display_data"
    }
   ],
   "source": [
    "df = df.sort_values('closest_centroid', ascending = True, ignore_index= True)\n",
    "sns.scatterplot(data = df, x = \"x1\", y = \"x2\", hue= 'closest_centroid' , palette=\"deep\")\n",
    "sns.scatterplot(data = df_centroids_new, x = \"x1\", y = \"x2\", hue= 'closest_centroid',size = 200, sizes= (200,200) , palette=\"deep\")\n",
    "plt.show()\n"
   ]
  },
  {
   "cell_type": "markdown",
   "metadata": {},
   "source": [
    "### Method 2"
   ]
  },
  {
   "cell_type": "code",
   "execution_count": 1223,
   "metadata": {},
   "outputs": [
    {
     "data": {
      "image/png": "[encoded data removed]",
      "text/plain": [
       "<Figure size 432x288 with 1 Axes>"
      ]
     },
     "metadata": {
      "needs_background": "light"
     },
     "output_type": "display_data"
    }
   ],
   "source": [
    "\n",
    "colors = {1:'red', 2:'green', 3:'blue', 4:'salmon'}\n",
    "plt.scatter(df.x1, df.x2, c= df['closest_centroid'].map(colors) )\n",
    "plt.scatter(df_centroids_new.x1, df_centroids_new.x2, marker = 'o', s = 200, c = df_centroids_new['closest_centroid'].map(colors) )\n",
    "plt.show()"
   ]
  },
  {
   "cell_type": "markdown",
   "metadata": {},
   "source": [
    "## 7. Repeat steps 4 to 6\n",
    "Use a loop in order to repeat steps 4 to 6. The number of iterations should be large enough for the\n",
    "algorithm to have time to converge. Note that a parameter ϵ (a small value) can be introduced here to\n",
    "stop the algorithm automatically, we can force the algorithm to stop"
   ]
  },
  {
   "cell_type": "code",
   "execution_count": 1224,
   "metadata": {},
   "outputs": [],
   "source": [
    "iteration = 1\n",
    "max_iteration = 100\n",
    "#colors = {'centroid1':'red', 'centroid2':'green', 'centroid3':'blue', 'centroid4':'salmon'}\n",
    "colors = {1:'red', 2:'green', 3:'blue', 4:'salmon'}\n",
    "colors_centroids = {0:'red', 1:'green', 2:'blue', 3:'salmon'}\n",
    "#df_centroids = intialization_centroids(4, df)\n",
    "df_old_centroids = pd.DataFrame()"
   ]
  },
  {
   "cell_type": "markdown",
   "metadata": {},
   "source": [
    "By using plt.scatter, Im not prefer because I need to set up difference color if K is changed, therefore I prefer using sns plot "
   ]
  },
  {
   "cell_type": "code",
   "execution_count": 1226,
   "metadata": {},
   "outputs": [],
   "source": [
    "# while (iteration < max_iteration):\n",
    "#     df_old_centroids = df_centroids\n",
    "#     cluster_centroid(df, df_old_centroids)\n",
    "#     df_centroids = new_centroids(df)\n",
    "#     plt.scatter(df.x1, df.x2, c= df['closest_centroid'].map(colors) )\n",
    "#     plt.scatter(df_centroids.x1, df_centroids.x2, marker = 'o', s = 200, c= df_centroids.index.map(colors_centroids) )\n",
    "#     plt.show()\n",
    "#     if np.all(abs(distance(df_centroids.iloc[:, 0], df_centroids.iloc[:, 1], df_old_centroids.iloc[:, 0], df_old_centroids.iloc[:, 1])) < 0.01):\n",
    "#         break\n",
    "#     iteration += 1"
   ]
  },
  {
   "cell_type": "code",
   "execution_count": 1225,
   "metadata": {},
   "outputs": [
    {
     "data": {
      "image/png": "[encoded data removed]",
      "text/plain": [
       "<Figure size 432x288 with 1 Axes>"
      ]
     },
     "metadata": {
      "needs_background": "light"
     },
     "output_type": "display_data"
    },
    {
     "data": {
      "image/png": "[encoded data removed]",
      "text/plain": [
       "<Figure size 432x288 with 1 Axes>"
      ]
     },
     "metadata": {
      "needs_background": "light"
     },
     "output_type": "display_data"
    },
    {
     "data": {
      "image/png": "[encoded data removed]",
      "text/plain": [
       "<Figure size 432x288 with 1 Axes>"
      ]
     },
     "metadata": {
      "needs_background": "light"
     },
     "output_type": "display_data"
    }
   ],
   "source": [
    "while (iteration < max_iteration):\n",
    "    df_old_centroids = df_centroids\n",
    "    cluster_centroid(df, df_old_centroids)\n",
    "    df_centroids = new_centroids(df)\n",
    "    sns.scatterplot(data = df, x = \"x1\", y = \"x2\", hue= 'closest_centroid' , palette=\"deep\")\n",
    "    sns.scatterplot(data = df_centroids, x = \"x1\", y = \"x2\", hue = df_centroids.index, size = 200, sizes= (200,200) , palette=\"deep\")\n",
    "    plt.show()\n",
    "    if np.all(abs(distance(df_centroids.iloc[:, 0], df_centroids.iloc[:, 1], df_old_centroids.iloc[:, 0], df_old_centroids.iloc[:, 1])) < 0.01):\n",
    "        break\n",
    "    iteration += 1"
   ]
  },
  {
   "cell_type": "markdown",
   "metadata": {},
   "source": [
    "## 8. Kmeans function\n",
    "Implement the whole algorithm in a same Python (or R) funtion, named Kmeans, that takes the matrix\n",
    "X as input, and returns as outputs: the clusters assigned to the observations c\n",
    "(1), c(2), ..., c(n) and the\n",
    "cluster centroids µ1, µ2, ..., µK. Ideally, the function should plot the final scatterplot, with a different\n",
    "color for each cluster, and the corresponding cluster centroids."
   ]
  },
  {
   "cell_type": "code",
   "execution_count": 1384,
   "metadata": {},
   "outputs": [],
   "source": [
    "def Kmeans(data, K):\n",
    "    \n",
    "    iteration = 1\n",
    "    max_iteration = 100\n",
    "    #colors = {'centroid1':'red', 'centroid2':'green', 'centroid3':'blue', 'centroid4':'salmon'}\n",
    "    #colors_centroids = {0:'red', 1:'green', 2:'blue', 3:'salmon'}\n",
    "    df_old_centroids = pd.DataFrame()\n",
    "\n",
    "    \n",
    "    #set up centroids\n",
    "    #df_centroids = intialization_centroids(4, df)\n",
    "    centroids = []\n",
    "    for k in range(K):\n",
    "        centroid = data[[\"x1\", \"x2\"]].apply(lambda x: float(x.sample()))\n",
    "        centroids.append(centroid)\n",
    "    df_centroids = pd.concat(centroids , axis = 1).T \n",
    "\n",
    "\n",
    "    while (iteration < max_iteration):\n",
    "        df_old_centroids = df_centroids\n",
    "\n",
    "        #cluster_centroid(data, df_old_centroids)\n",
    "        # Calculate the distance between old centroids and observations\n",
    "\n",
    "        # for i in range(K):        \n",
    "        #     data[str(i + 1)] = distance(data.iloc[:, 0], data.iloc[:, 1],df_old_centroids.iloc[:, 0][i], df_old_centroids.iloc[:, 1][i])\n",
    "        # data[\"closest_centroid\"] = data.iloc[:, data.shape[1] - K : data.shape[1]].idxmin(axis = 1) \n",
    "\n",
    "        for i in range(K):        \n",
    "            data.insert(data.shape[1], str(i + 1), distance(data.iloc[:, 0], data.iloc[:, 1],df_old_centroids.iloc[:, 0][i], df_old_centroids.iloc[:, 1][i]), True)\n",
    "        data[\"closest_centroid\"] = data.iloc[:, data.shape[1] - K : data.shape[1]].idxmin(axis = 1) \n",
    "        data.drop(data.iloc[:, data.shape[1] - K - 1 : data.shape[1] - 1], inplace=True, axis=1)\n",
    "\n",
    "        #df_centroids = new_centroids(df)\n",
    "        #def new_centroids(data):\n",
    "        df_centroids = data.groupby([\"closest_centroid\"]).mean().reset_index().iloc[:, 1: (df_old_centroids.shape[1] + 1)]\n",
    "        \n",
    "\n",
    "        #plot resultat \n",
    "        data = data.sort_values('closest_centroid', ascending = True, ignore_index= True)\n",
    "        sns.scatterplot(data = data, x = \"x1\", y = \"x2\", hue= 'closest_centroid' , palette=\"deep\")\n",
    "        sns.scatterplot(data = df_centroids, x = \"x1\", y = \"x2\", hue = df_centroids.index ,size = 200, sizes= (200,200) , palette=\"deep\")\n",
    "        plt.show()\n",
    "        if np.all(abs(distance(df_centroids.iloc[:, 0], df_centroids.iloc[:, 1], df_old_centroids.iloc[:, 0], df_old_centroids.iloc[:, 1])) < 0.01):\n",
    "            break\n",
    "        iteration += 1"
   ]
  },
  {
   "cell_type": "code",
   "execution_count": 1398,
   "metadata": {},
   "outputs": [
    {
     "data": {
      "text/html": [
       "<div>\n",
       "<style scoped>\n",
       "    .dataframe tbody tr th:only-of-type {\n",
       "        vertical-align: middle;\n",
       "    }\n",
       "\n",
       "    .dataframe tbody tr th {\n",
       "        vertical-align: top;\n",
       "    }\n",
       "\n",
       "    .dataframe thead th {\n",
       "        text-align: right;\n",
       "    }\n",
       "</style>\n",
       "<table border=\"1\" class=\"dataframe\">\n",
       "  <thead>\n",
       "    <tr style=\"text-align: right;\">\n",
       "      <th></th>\n",
       "      <th>x1</th>\n",
       "      <th>x2</th>\n",
       "    </tr>\n",
       "  </thead>\n",
       "  <tbody>\n",
       "    <tr>\n",
       "      <th>0</th>\n",
       "      <td>1.014010</td>\n",
       "      <td>1.003504</td>\n",
       "    </tr>\n",
       "    <tr>\n",
       "      <th>1</th>\n",
       "      <td>-1.002010</td>\n",
       "      <td>0.980629</td>\n",
       "    </tr>\n",
       "    <tr>\n",
       "      <th>2</th>\n",
       "      <td>0.988644</td>\n",
       "      <td>-0.979671</td>\n",
       "    </tr>\n",
       "    <tr>\n",
       "      <th>3</th>\n",
       "      <td>-0.989800</td>\n",
       "      <td>-1.012276</td>\n",
       "    </tr>\n",
       "  </tbody>\n",
       "</table>\n",
       "</div>"
      ],
      "text/plain": [
       "         x1        x2\n",
       "0  1.014010  1.003504\n",
       "1 -1.002010  0.980629\n",
       "2  0.988644 -0.979671\n",
       "3 -0.989800 -1.012276"
      ]
     },
     "execution_count": 1398,
     "metadata": {},
     "output_type": "execute_result"
    }
   ],
   "source": [
    "df_centroids"
   ]
  },
  {
   "cell_type": "code",
   "execution_count": 1397,
   "metadata": {},
   "outputs": [
    {
     "data": {
      "text/html": [
       "<div>\n",
       "<style scoped>\n",
       "    .dataframe tbody tr th:only-of-type {\n",
       "        vertical-align: middle;\n",
       "    }\n",
       "\n",
       "    .dataframe tbody tr th {\n",
       "        vertical-align: top;\n",
       "    }\n",
       "\n",
       "    .dataframe thead th {\n",
       "        text-align: right;\n",
       "    }\n",
       "</style>\n",
       "<table border=\"1\" class=\"dataframe\">\n",
       "  <thead>\n",
       "    <tr style=\"text-align: right;\">\n",
       "      <th></th>\n",
       "      <th>x1</th>\n",
       "      <th>x2</th>\n",
       "    </tr>\n",
       "  </thead>\n",
       "  <tbody>\n",
       "    <tr>\n",
       "      <th>0</th>\n",
       "      <td>1.014010</td>\n",
       "      <td>1.003504</td>\n",
       "    </tr>\n",
       "    <tr>\n",
       "      <th>1</th>\n",
       "      <td>-1.002010</td>\n",
       "      <td>0.980629</td>\n",
       "    </tr>\n",
       "    <tr>\n",
       "      <th>2</th>\n",
       "      <td>0.988644</td>\n",
       "      <td>-0.979671</td>\n",
       "    </tr>\n",
       "    <tr>\n",
       "      <th>3</th>\n",
       "      <td>-0.989800</td>\n",
       "      <td>-1.012276</td>\n",
       "    </tr>\n",
       "  </tbody>\n",
       "</table>\n",
       "</div>"
      ],
      "text/plain": [
       "         x1        x2\n",
       "0  1.014010  1.003504\n",
       "1 -1.002010  0.980629\n",
       "2  0.988644 -0.979671\n",
       "3 -0.989800 -1.012276"
      ]
     },
     "execution_count": 1397,
     "metadata": {},
     "output_type": "execute_result"
    }
   ],
   "source": [
    "df_old_centroids"
   ]
  },
  {
   "cell_type": "code",
   "execution_count": 1399,
   "metadata": {},
   "outputs": [],
   "source": [
    "for i in range(4):        \n",
    "    df[str(i + 1)] = distance(df.iloc[:, 0], df.iloc[:, 1],df_old_centroids.iloc[:, 0][i], df_old_centroids.iloc[:, 1][i])\n",
    "df[\"closest_centroid\"] = df.iloc[:, df.shape[1] - 4 : df.shape[1]].idxmin(axis = 1) "
   ]
  },
  {
   "cell_type": "code",
   "execution_count": 1403,
   "metadata": {},
   "outputs": [
    {
     "ename": "ValueError",
     "evalue": "cannot insert closest_centroid, already exists",
     "output_type": "error",
     "traceback": [
      "\u001b[0;31m---------------------------------------------------------------------------\u001b[0m",
      "\u001b[0;31mValueError\u001b[0m                                Traceback (most recent call last)",
      "\u001b[1;32m/Users/lilyhuong/Desktop/Prevision_methode/Homework(midterm)_NGUYEN_Thi_Huong.ipynb Cell 49'\u001b[0m in \u001b[0;36m<cell line: 3>\u001b[0;34m()\u001b[0m\n\u001b[1;32m      <a href='vscode-notebook-cell:/Users/lilyhuong/Desktop/Prevision_methode/Homework%28midterm%29_NGUYEN_Thi_Huong.ipynb#ch0000182?line=0'>1</a>\u001b[0m \u001b[39mfor\u001b[39;00m i \u001b[39min\u001b[39;00m \u001b[39mrange\u001b[39m(\u001b[39m4\u001b[39m):        \n\u001b[1;32m      <a href='vscode-notebook-cell:/Users/lilyhuong/Desktop/Prevision_methode/Homework%28midterm%29_NGUYEN_Thi_Huong.ipynb#ch0000182?line=1'>2</a>\u001b[0m     df\u001b[39m.\u001b[39minsert(df\u001b[39m.\u001b[39mshape[\u001b[39m1\u001b[39m], \u001b[39mstr\u001b[39m(i \u001b[39m+\u001b[39m \u001b[39m1\u001b[39m), distance(df\u001b[39m.\u001b[39miloc[:, \u001b[39m0\u001b[39m], df\u001b[39m.\u001b[39miloc[:, \u001b[39m1\u001b[39m],df_old_centroids\u001b[39m.\u001b[39miloc[:, \u001b[39m0\u001b[39m][i], df_old_centroids\u001b[39m.\u001b[39miloc[:, \u001b[39m1\u001b[39m][i]), \u001b[39mTrue\u001b[39;00m)\n\u001b[0;32m----> <a href='vscode-notebook-cell:/Users/lilyhuong/Desktop/Prevision_methode/Homework%28midterm%29_NGUYEN_Thi_Huong.ipynb#ch0000182?line=2'>3</a>\u001b[0m df\u001b[39m.\u001b[39;49minsert(df\u001b[39m.\u001b[39;49mshape[\u001b[39m1\u001b[39;49m], \u001b[39m\"\u001b[39;49m\u001b[39mclosest_centroid\u001b[39;49m\u001b[39m\"\u001b[39;49m,df\u001b[39m.\u001b[39;49miloc[:, df\u001b[39m.\u001b[39;49mshape[\u001b[39m1\u001b[39;49m] \u001b[39m-\u001b[39;49m \u001b[39m4\u001b[39;49m : df\u001b[39m.\u001b[39;49mshape[\u001b[39m1\u001b[39;49m]]\u001b[39m.\u001b[39;49midxmin(axis \u001b[39m=\u001b[39;49m \u001b[39m1\u001b[39;49m) )\n",
      "File \u001b[0;32m/opt/anaconda3/lib/python3.9/site-packages/pandas/core/frame.py:4434\u001b[0m, in \u001b[0;36mDataFrame.insert\u001b[0;34m(self, loc, column, value, allow_duplicates)\u001b[0m\n\u001b[1;32m   <a href='file:///opt/anaconda3/lib/python3.9/site-packages/pandas/core/frame.py?line=4427'>4428</a>\u001b[0m     \u001b[39mraise\u001b[39;00m \u001b[39mValueError\u001b[39;00m(\n\u001b[1;32m   <a href='file:///opt/anaconda3/lib/python3.9/site-packages/pandas/core/frame.py?line=4428'>4429</a>\u001b[0m         \u001b[39m\"\u001b[39m\u001b[39mCannot specify \u001b[39m\u001b[39m'\u001b[39m\u001b[39mallow_duplicates=True\u001b[39m\u001b[39m'\u001b[39m\u001b[39m when \u001b[39m\u001b[39m\"\u001b[39m\n\u001b[1;32m   <a href='file:///opt/anaconda3/lib/python3.9/site-packages/pandas/core/frame.py?line=4429'>4430</a>\u001b[0m         \u001b[39m\"\u001b[39m\u001b[39m'\u001b[39m\u001b[39mself.flags.allows_duplicate_labels\u001b[39m\u001b[39m'\u001b[39m\u001b[39m is False.\u001b[39m\u001b[39m\"\u001b[39m\n\u001b[1;32m   <a href='file:///opt/anaconda3/lib/python3.9/site-packages/pandas/core/frame.py?line=4430'>4431</a>\u001b[0m     )\n\u001b[1;32m   <a href='file:///opt/anaconda3/lib/python3.9/site-packages/pandas/core/frame.py?line=4431'>4432</a>\u001b[0m \u001b[39mif\u001b[39;00m \u001b[39mnot\u001b[39;00m allow_duplicates \u001b[39mand\u001b[39;00m column \u001b[39min\u001b[39;00m \u001b[39mself\u001b[39m\u001b[39m.\u001b[39mcolumns:\n\u001b[1;32m   <a href='file:///opt/anaconda3/lib/python3.9/site-packages/pandas/core/frame.py?line=4432'>4433</a>\u001b[0m     \u001b[39m# Should this be a different kind of error??\u001b[39;00m\n\u001b[0;32m-> <a href='file:///opt/anaconda3/lib/python3.9/site-packages/pandas/core/frame.py?line=4433'>4434</a>\u001b[0m     \u001b[39mraise\u001b[39;00m \u001b[39mValueError\u001b[39;00m(\u001b[39mf\u001b[39m\u001b[39m\"\u001b[39m\u001b[39mcannot insert \u001b[39m\u001b[39m{\u001b[39;00mcolumn\u001b[39m}\u001b[39;00m\u001b[39m, already exists\u001b[39m\u001b[39m\"\u001b[39m)\n\u001b[1;32m   <a href='file:///opt/anaconda3/lib/python3.9/site-packages/pandas/core/frame.py?line=4434'>4435</a>\u001b[0m \u001b[39mif\u001b[39;00m \u001b[39mnot\u001b[39;00m \u001b[39misinstance\u001b[39m(loc, \u001b[39mint\u001b[39m):\n\u001b[1;32m   <a href='file:///opt/anaconda3/lib/python3.9/site-packages/pandas/core/frame.py?line=4435'>4436</a>\u001b[0m     \u001b[39mraise\u001b[39;00m \u001b[39mTypeError\u001b[39;00m(\u001b[39m\"\u001b[39m\u001b[39mloc must be int\u001b[39m\u001b[39m\"\u001b[39m)\n",
      "\u001b[0;31mValueError\u001b[0m: cannot insert closest_centroid, already exists"
     ]
    }
   ],
   "source": [
    "for i in range(4):        \n",
    "    df.insert(df.shape[1], str(i + 1), distance(df.iloc[:, 0], df.iloc[:, 1],df_old_centroids.iloc[:, 0][i], df_old_centroids.iloc[:, 1][i]), True)\n",
    "df.insert(df.shape[1], \"closest_centroid\",df.iloc[:, df.shape[1] - 4 : df.shape[1]].idxmin(axis = 1) )"
   ]
  },
  {
   "cell_type": "code",
   "execution_count": 1404,
   "metadata": {},
   "outputs": [],
   "source": [
    "df[\"closest_centroid\"] = df.iloc[:, df.shape[1] - 4 : df.shape[1]].idxmin(axis = 1) "
   ]
  },
  {
   "cell_type": "code",
   "execution_count": 1401,
   "metadata": {},
   "outputs": [],
   "source": [
    "df.drop(df.iloc[:, 4 :  8], inplace=True, axis=1)"
   ]
  },
  {
   "cell_type": "code",
   "execution_count": 1405,
   "metadata": {},
   "outputs": [
    {
     "data": {
      "text/html": [
       "<div>\n",
       "<style scoped>\n",
       "    .dataframe tbody tr th:only-of-type {\n",
       "        vertical-align: middle;\n",
       "    }\n",
       "\n",
       "    .dataframe tbody tr th {\n",
       "        vertical-align: top;\n",
       "    }\n",
       "\n",
       "    .dataframe thead th {\n",
       "        text-align: right;\n",
       "    }\n",
       "</style>\n",
       "<table border=\"1\" class=\"dataframe\">\n",
       "  <thead>\n",
       "    <tr style=\"text-align: right;\">\n",
       "      <th></th>\n",
       "      <th>x1</th>\n",
       "      <th>x2</th>\n",
       "      <th>cluster</th>\n",
       "      <th>closest_centroid</th>\n",
       "      <th>1</th>\n",
       "      <th>2</th>\n",
       "      <th>3</th>\n",
       "      <th>4</th>\n",
       "    </tr>\n",
       "  </thead>\n",
       "  <tbody>\n",
       "    <tr>\n",
       "      <th>0</th>\n",
       "      <td>0.891437</td>\n",
       "      <td>1.064205</td>\n",
       "      <td>1.0</td>\n",
       "      <td>1</td>\n",
       "      <td>0.136781</td>\n",
       "      <td>1.895291</td>\n",
       "      <td>2.046187</td>\n",
       "      <td>2.801933</td>\n",
       "    </tr>\n",
       "    <tr>\n",
       "      <th>1</th>\n",
       "      <td>1.099735</td>\n",
       "      <td>0.802211</td>\n",
       "      <td>1.0</td>\n",
       "      <td>1</td>\n",
       "      <td>0.218786</td>\n",
       "      <td>2.109304</td>\n",
       "      <td>1.785342</td>\n",
       "      <td>2.767403</td>\n",
       "    </tr>\n",
       "    <tr>\n",
       "      <th>2</th>\n",
       "      <td>1.028298</td>\n",
       "      <td>1.071226</td>\n",
       "      <td>1.0</td>\n",
       "      <td>1</td>\n",
       "      <td>0.069213</td>\n",
       "      <td>2.032328</td>\n",
       "      <td>2.051281</td>\n",
       "      <td>2.900639</td>\n",
       "    </tr>\n",
       "    <tr>\n",
       "      <th>3</th>\n",
       "      <td>0.849371</td>\n",
       "      <td>1.259830</td>\n",
       "      <td>1.0</td>\n",
       "      <td>1</td>\n",
       "      <td>0.304647</td>\n",
       "      <td>1.872315</td>\n",
       "      <td>2.243828</td>\n",
       "      <td>2.923186</td>\n",
       "    </tr>\n",
       "    <tr>\n",
       "      <th>4</th>\n",
       "      <td>0.942140</td>\n",
       "      <td>0.997537</td>\n",
       "      <td>1.0</td>\n",
       "      <td>1</td>\n",
       "      <td>0.072118</td>\n",
       "      <td>1.944224</td>\n",
       "      <td>1.977755</td>\n",
       "      <td>2.787785</td>\n",
       "    </tr>\n",
       "    <tr>\n",
       "      <th>...</th>\n",
       "      <td>...</td>\n",
       "      <td>...</td>\n",
       "      <td>...</td>\n",
       "      <td>...</td>\n",
       "      <td>...</td>\n",
       "      <td>...</td>\n",
       "      <td>...</td>\n",
       "      <td>...</td>\n",
       "    </tr>\n",
       "    <tr>\n",
       "      <th>95</th>\n",
       "      <td>-0.896889</td>\n",
       "      <td>0.676894</td>\n",
       "      <td>4.0</td>\n",
       "      <td>2</td>\n",
       "      <td>1.938610</td>\n",
       "      <td>0.321411</td>\n",
       "      <td>2.509869</td>\n",
       "      <td>1.691724</td>\n",
       "    </tr>\n",
       "    <tr>\n",
       "      <th>96</th>\n",
       "      <td>-1.108457</td>\n",
       "      <td>0.973071</td>\n",
       "      <td>4.0</td>\n",
       "      <td>2</td>\n",
       "      <td>2.122685</td>\n",
       "      <td>0.106715</td>\n",
       "      <td>2.865490</td>\n",
       "      <td>1.988889</td>\n",
       "    </tr>\n",
       "    <tr>\n",
       "      <th>97</th>\n",
       "      <td>-1.136347</td>\n",
       "      <td>0.988915</td>\n",
       "      <td>4.0</td>\n",
       "      <td>2</td>\n",
       "      <td>2.150407</td>\n",
       "      <td>0.134592</td>\n",
       "      <td>2.896708</td>\n",
       "      <td>2.006550</td>\n",
       "    </tr>\n",
       "    <tr>\n",
       "      <th>98</th>\n",
       "      <td>-0.962060</td>\n",
       "      <td>0.965874</td>\n",
       "      <td>4.0</td>\n",
       "      <td>2</td>\n",
       "      <td>1.976428</td>\n",
       "      <td>0.042588</td>\n",
       "      <td>2.755066</td>\n",
       "      <td>1.978345</td>\n",
       "    </tr>\n",
       "    <tr>\n",
       "      <th>99</th>\n",
       "      <td>-1.037918</td>\n",
       "      <td>0.978205</td>\n",
       "      <td>4.0</td>\n",
       "      <td>2</td>\n",
       "      <td>2.052084</td>\n",
       "      <td>0.035989</td>\n",
       "      <td>2.817842</td>\n",
       "      <td>1.991063</td>\n",
       "    </tr>\n",
       "  </tbody>\n",
       "</table>\n",
       "<p>100 rows × 8 columns</p>\n",
       "</div>"
      ],
      "text/plain": [
       "          x1        x2 cluster closest_centroid         1         2         3  \\\n",
       "0   0.891437  1.064205     1.0                1  0.136781  1.895291  2.046187   \n",
       "1   1.099735  0.802211     1.0                1  0.218786  2.109304  1.785342   \n",
       "2   1.028298  1.071226     1.0                1  0.069213  2.032328  2.051281   \n",
       "3   0.849371  1.259830     1.0                1  0.304647  1.872315  2.243828   \n",
       "4   0.942140  0.997537     1.0                1  0.072118  1.944224  1.977755   \n",
       "..       ...       ...     ...              ...       ...       ...       ...   \n",
       "95 -0.896889  0.676894     4.0                2  1.938610  0.321411  2.509869   \n",
       "96 -1.108457  0.973071     4.0                2  2.122685  0.106715  2.865490   \n",
       "97 -1.136347  0.988915     4.0                2  2.150407  0.134592  2.896708   \n",
       "98 -0.962060  0.965874     4.0                2  1.976428  0.042588  2.755066   \n",
       "99 -1.037918  0.978205     4.0                2  2.052084  0.035989  2.817842   \n",
       "\n",
       "           4  \n",
       "0   2.801933  \n",
       "1   2.767403  \n",
       "2   2.900639  \n",
       "3   2.923186  \n",
       "4   2.787785  \n",
       "..       ...  \n",
       "95  1.691724  \n",
       "96  1.988889  \n",
       "97  2.006550  \n",
       "98  1.978345  \n",
       "99  1.991063  \n",
       "\n",
       "[100 rows x 8 columns]"
      ]
     },
     "execution_count": 1405,
     "metadata": {},
     "output_type": "execute_result"
    }
   ],
   "source": [
    "df"
   ]
  },
  {
   "cell_type": "code",
   "execution_count": 1320,
   "metadata": {},
   "outputs": [
    {
     "data": {
      "text/html": [
       "<div>\n",
       "<style scoped>\n",
       "    .dataframe tbody tr th:only-of-type {\n",
       "        vertical-align: middle;\n",
       "    }\n",
       "\n",
       "    .dataframe tbody tr th {\n",
       "        vertical-align: top;\n",
       "    }\n",
       "\n",
       "    .dataframe thead th {\n",
       "        text-align: right;\n",
       "    }\n",
       "</style>\n",
       "<table border=\"1\" class=\"dataframe\">\n",
       "  <thead>\n",
       "    <tr style=\"text-align: right;\">\n",
       "      <th></th>\n",
       "      <th>x1</th>\n",
       "      <th>x2</th>\n",
       "    </tr>\n",
       "  </thead>\n",
       "  <tbody>\n",
       "    <tr>\n",
       "      <th>0</th>\n",
       "      <td>1.014010</td>\n",
       "      <td>1.003504</td>\n",
       "    </tr>\n",
       "    <tr>\n",
       "      <th>1</th>\n",
       "      <td>-1.002010</td>\n",
       "      <td>0.980629</td>\n",
       "    </tr>\n",
       "    <tr>\n",
       "      <th>2</th>\n",
       "      <td>0.988644</td>\n",
       "      <td>-0.979671</td>\n",
       "    </tr>\n",
       "    <tr>\n",
       "      <th>3</th>\n",
       "      <td>-0.989800</td>\n",
       "      <td>-1.012276</td>\n",
       "    </tr>\n",
       "  </tbody>\n",
       "</table>\n",
       "</div>"
      ],
      "text/plain": [
       "         x1        x2\n",
       "0  1.014010  1.003504\n",
       "1 -1.002010  0.980629\n",
       "2  0.988644 -0.979671\n",
       "3 -0.989800 -1.012276"
      ]
     },
     "execution_count": 1320,
     "metadata": {},
     "output_type": "execute_result"
    }
   ],
   "source": [
    "df_centroids"
   ]
  },
  {
   "cell_type": "code",
   "execution_count": 1389,
   "metadata": {},
   "outputs": [
    {
     "data": {
      "text/html": [
       "<div>\n",
       "<style scoped>\n",
       "    .dataframe tbody tr th:only-of-type {\n",
       "        vertical-align: middle;\n",
       "    }\n",
       "\n",
       "    .dataframe tbody tr th {\n",
       "        vertical-align: top;\n",
       "    }\n",
       "\n",
       "    .dataframe thead th {\n",
       "        text-align: right;\n",
       "    }\n",
       "</style>\n",
       "<table border=\"1\" class=\"dataframe\">\n",
       "  <thead>\n",
       "    <tr style=\"text-align: right;\">\n",
       "      <th></th>\n",
       "      <th>x1</th>\n",
       "      <th>x2</th>\n",
       "      <th>cluster</th>\n",
       "      <th>closest_centroid</th>\n",
       "    </tr>\n",
       "  </thead>\n",
       "  <tbody>\n",
       "    <tr>\n",
       "      <th>0</th>\n",
       "      <td>0.891437</td>\n",
       "      <td>1.064205</td>\n",
       "      <td>1.0</td>\n",
       "      <td>4</td>\n",
       "    </tr>\n",
       "    <tr>\n",
       "      <th>1</th>\n",
       "      <td>1.099735</td>\n",
       "      <td>0.802211</td>\n",
       "      <td>1.0</td>\n",
       "      <td>4</td>\n",
       "    </tr>\n",
       "    <tr>\n",
       "      <th>2</th>\n",
       "      <td>1.028298</td>\n",
       "      <td>1.071226</td>\n",
       "      <td>1.0</td>\n",
       "      <td>4</td>\n",
       "    </tr>\n",
       "    <tr>\n",
       "      <th>3</th>\n",
       "      <td>0.849371</td>\n",
       "      <td>1.259830</td>\n",
       "      <td>1.0</td>\n",
       "      <td>4</td>\n",
       "    </tr>\n",
       "    <tr>\n",
       "      <th>4</th>\n",
       "      <td>0.942140</td>\n",
       "      <td>0.997537</td>\n",
       "      <td>1.0</td>\n",
       "      <td>4</td>\n",
       "    </tr>\n",
       "    <tr>\n",
       "      <th>...</th>\n",
       "      <td>...</td>\n",
       "      <td>...</td>\n",
       "      <td>...</td>\n",
       "      <td>...</td>\n",
       "    </tr>\n",
       "    <tr>\n",
       "      <th>95</th>\n",
       "      <td>-0.896889</td>\n",
       "      <td>0.676894</td>\n",
       "      <td>4.0</td>\n",
       "      <td>2</td>\n",
       "    </tr>\n",
       "    <tr>\n",
       "      <th>96</th>\n",
       "      <td>-1.108457</td>\n",
       "      <td>0.973071</td>\n",
       "      <td>4.0</td>\n",
       "      <td>1</td>\n",
       "    </tr>\n",
       "    <tr>\n",
       "      <th>97</th>\n",
       "      <td>-1.136347</td>\n",
       "      <td>0.988915</td>\n",
       "      <td>4.0</td>\n",
       "      <td>1</td>\n",
       "    </tr>\n",
       "    <tr>\n",
       "      <th>98</th>\n",
       "      <td>-0.962060</td>\n",
       "      <td>0.965874</td>\n",
       "      <td>4.0</td>\n",
       "      <td>1</td>\n",
       "    </tr>\n",
       "    <tr>\n",
       "      <th>99</th>\n",
       "      <td>-1.037918</td>\n",
       "      <td>0.978205</td>\n",
       "      <td>4.0</td>\n",
       "      <td>1</td>\n",
       "    </tr>\n",
       "  </tbody>\n",
       "</table>\n",
       "<p>100 rows × 4 columns</p>\n",
       "</div>"
      ],
      "text/plain": [
       "          x1        x2 cluster closest_centroid\n",
       "0   0.891437  1.064205     1.0                4\n",
       "1   1.099735  0.802211     1.0                4\n",
       "2   1.028298  1.071226     1.0                4\n",
       "3   0.849371  1.259830     1.0                4\n",
       "4   0.942140  0.997537     1.0                4\n",
       "..       ...       ...     ...              ...\n",
       "95 -0.896889  0.676894     4.0                2\n",
       "96 -1.108457  0.973071     4.0                1\n",
       "97 -1.136347  0.988915     4.0                1\n",
       "98 -0.962060  0.965874     4.0                1\n",
       "99 -1.037918  0.978205     4.0                1\n",
       "\n",
       "[100 rows x 4 columns]"
      ]
     },
     "execution_count": 1389,
     "metadata": {},
     "output_type": "execute_result"
    }
   ],
   "source": [
    "df"
   ]
  },
  {
   "cell_type": "code",
   "execution_count": 1394,
   "metadata": {},
   "outputs": [
    {
     "data": {
      "image/png": "[encoded data removed]",
      "text/plain": [
       "<Figure size 432x288 with 1 Axes>"
      ]
     },
     "metadata": {
      "needs_background": "light"
     },
     "output_type": "display_data"
    },
    {
     "ename": "KeyError",
     "evalue": "'closest_centroid'",
     "output_type": "error",
     "traceback": [
      "\u001b[0;31m---------------------------------------------------------------------------\u001b[0m",
      "\u001b[0;31mKeyError\u001b[0m                                  Traceback (most recent call last)",
      "\u001b[1;32m/Users/lilyhuong/Desktop/Prevision_methode/Homework(midterm)_NGUYEN_Thi_Huong.ipynb Cell 52'\u001b[0m in \u001b[0;36m<cell line: 1>\u001b[0;34m()\u001b[0m\n\u001b[0;32m----> <a href='vscode-notebook-cell:/Users/lilyhuong/Desktop/Prevision_methode/Homework%28midterm%29_NGUYEN_Thi_Huong.ipynb#ch0000167?line=0'>1</a>\u001b[0m Kmeans(df, \u001b[39m4\u001b[39;49m)\n",
      "\u001b[1;32m/Users/lilyhuong/Desktop/Prevision_methode/Homework(midterm)_NGUYEN_Thi_Huong.ipynb Cell 45'\u001b[0m in \u001b[0;36mKmeans\u001b[0;34m(data, K)\u001b[0m\n\u001b[1;32m     <a href='vscode-notebook-cell:/Users/lilyhuong/Desktop/Prevision_methode/Homework%28midterm%29_NGUYEN_Thi_Huong.ipynb#ch0000101?line=31'>32</a>\u001b[0m data\u001b[39m.\u001b[39mdrop(data\u001b[39m.\u001b[39miloc[:, data\u001b[39m.\u001b[39mshape[\u001b[39m1\u001b[39m] \u001b[39m-\u001b[39m K \u001b[39m-\u001b[39m \u001b[39m1\u001b[39m : data\u001b[39m.\u001b[39mshape[\u001b[39m1\u001b[39m] \u001b[39m-\u001b[39m \u001b[39m1\u001b[39m], inplace\u001b[39m=\u001b[39m\u001b[39mTrue\u001b[39;00m, axis\u001b[39m=\u001b[39m\u001b[39m1\u001b[39m)\n\u001b[1;32m     <a href='vscode-notebook-cell:/Users/lilyhuong/Desktop/Prevision_methode/Homework%28midterm%29_NGUYEN_Thi_Huong.ipynb#ch0000101?line=33'>34</a>\u001b[0m \u001b[39m#df_centroids = new_centroids(df)\u001b[39;00m\n\u001b[1;32m     <a href='vscode-notebook-cell:/Users/lilyhuong/Desktop/Prevision_methode/Homework%28midterm%29_NGUYEN_Thi_Huong.ipynb#ch0000101?line=34'>35</a>\u001b[0m \u001b[39m#def new_centroids(data):\u001b[39;00m\n\u001b[0;32m---> <a href='vscode-notebook-cell:/Users/lilyhuong/Desktop/Prevision_methode/Homework%28midterm%29_NGUYEN_Thi_Huong.ipynb#ch0000101?line=35'>36</a>\u001b[0m df_centroids \u001b[39m=\u001b[39m data\u001b[39m.\u001b[39;49mgroupby([\u001b[39m\"\u001b[39;49m\u001b[39mclosest_centroid\u001b[39;49m\u001b[39m\"\u001b[39;49m])\u001b[39m.\u001b[39mmean()\u001b[39m.\u001b[39mreset_index()\u001b[39m.\u001b[39miloc[:, \u001b[39m1\u001b[39m: (df_old_centroids\u001b[39m.\u001b[39mshape[\u001b[39m1\u001b[39m] \u001b[39m+\u001b[39m \u001b[39m1\u001b[39m)]\n\u001b[1;32m     <a href='vscode-notebook-cell:/Users/lilyhuong/Desktop/Prevision_methode/Homework%28midterm%29_NGUYEN_Thi_Huong.ipynb#ch0000101?line=38'>39</a>\u001b[0m \u001b[39m#plot resultat \u001b[39;00m\n\u001b[1;32m     <a href='vscode-notebook-cell:/Users/lilyhuong/Desktop/Prevision_methode/Homework%28midterm%29_NGUYEN_Thi_Huong.ipynb#ch0000101?line=39'>40</a>\u001b[0m data \u001b[39m=\u001b[39m data\u001b[39m.\u001b[39msort_values(\u001b[39m'\u001b[39m\u001b[39mclosest_centroid\u001b[39m\u001b[39m'\u001b[39m, ascending \u001b[39m=\u001b[39m \u001b[39mTrue\u001b[39;00m, ignore_index\u001b[39m=\u001b[39m \u001b[39mTrue\u001b[39;00m)\n",
      "File \u001b[0;32m/opt/anaconda3/lib/python3.9/site-packages/pandas/core/frame.py:7706\u001b[0m, in \u001b[0;36mDataFrame.groupby\u001b[0;34m(self, by, axis, level, as_index, sort, group_keys, squeeze, observed, dropna)\u001b[0m\n\u001b[1;32m   <a href='file:///opt/anaconda3/lib/python3.9/site-packages/pandas/core/frame.py?line=7700'>7701</a>\u001b[0m axis \u001b[39m=\u001b[39m \u001b[39mself\u001b[39m\u001b[39m.\u001b[39m_get_axis_number(axis)\n\u001b[1;32m   <a href='file:///opt/anaconda3/lib/python3.9/site-packages/pandas/core/frame.py?line=7702'>7703</a>\u001b[0m \u001b[39m# https://github.com/python/mypy/issues/7642\u001b[39;00m\n\u001b[1;32m   <a href='file:///opt/anaconda3/lib/python3.9/site-packages/pandas/core/frame.py?line=7703'>7704</a>\u001b[0m \u001b[39m# error: Argument \"squeeze\" to \"DataFrameGroupBy\" has incompatible type\u001b[39;00m\n\u001b[1;32m   <a href='file:///opt/anaconda3/lib/python3.9/site-packages/pandas/core/frame.py?line=7704'>7705</a>\u001b[0m \u001b[39m# \"Union[bool, NoDefault]\"; expected \"bool\"\u001b[39;00m\n\u001b[0;32m-> <a href='file:///opt/anaconda3/lib/python3.9/site-packages/pandas/core/frame.py?line=7705'>7706</a>\u001b[0m \u001b[39mreturn\u001b[39;00m DataFrameGroupBy(\n\u001b[1;32m   <a href='file:///opt/anaconda3/lib/python3.9/site-packages/pandas/core/frame.py?line=7706'>7707</a>\u001b[0m     obj\u001b[39m=\u001b[39;49m\u001b[39mself\u001b[39;49m,\n\u001b[1;32m   <a href='file:///opt/anaconda3/lib/python3.9/site-packages/pandas/core/frame.py?line=7707'>7708</a>\u001b[0m     keys\u001b[39m=\u001b[39;49mby,\n\u001b[1;32m   <a href='file:///opt/anaconda3/lib/python3.9/site-packages/pandas/core/frame.py?line=7708'>7709</a>\u001b[0m     axis\u001b[39m=\u001b[39;49maxis,\n\u001b[1;32m   <a href='file:///opt/anaconda3/lib/python3.9/site-packages/pandas/core/frame.py?line=7709'>7710</a>\u001b[0m     level\u001b[39m=\u001b[39;49mlevel,\n\u001b[1;32m   <a href='file:///opt/anaconda3/lib/python3.9/site-packages/pandas/core/frame.py?line=7710'>7711</a>\u001b[0m     as_index\u001b[39m=\u001b[39;49mas_index,\n\u001b[1;32m   <a href='file:///opt/anaconda3/lib/python3.9/site-packages/pandas/core/frame.py?line=7711'>7712</a>\u001b[0m     sort\u001b[39m=\u001b[39;49msort,\n\u001b[1;32m   <a href='file:///opt/anaconda3/lib/python3.9/site-packages/pandas/core/frame.py?line=7712'>7713</a>\u001b[0m     group_keys\u001b[39m=\u001b[39;49mgroup_keys,\n\u001b[1;32m   <a href='file:///opt/anaconda3/lib/python3.9/site-packages/pandas/core/frame.py?line=7713'>7714</a>\u001b[0m     squeeze\u001b[39m=\u001b[39;49msqueeze,  \u001b[39m# type: ignore[arg-type]\u001b[39;49;00m\n\u001b[1;32m   <a href='file:///opt/anaconda3/lib/python3.9/site-packages/pandas/core/frame.py?line=7714'>7715</a>\u001b[0m     observed\u001b[39m=\u001b[39;49mobserved,\n\u001b[1;32m   <a href='file:///opt/anaconda3/lib/python3.9/site-packages/pandas/core/frame.py?line=7715'>7716</a>\u001b[0m     dropna\u001b[39m=\u001b[39;49mdropna,\n\u001b[1;32m   <a href='file:///opt/anaconda3/lib/python3.9/site-packages/pandas/core/frame.py?line=7716'>7717</a>\u001b[0m )\n",
      "File \u001b[0;32m/opt/anaconda3/lib/python3.9/site-packages/pandas/core/groupby/groupby.py:882\u001b[0m, in \u001b[0;36mGroupBy.__init__\u001b[0;34m(self, obj, keys, axis, level, grouper, exclusions, selection, as_index, sort, group_keys, squeeze, observed, mutated, dropna)\u001b[0m\n\u001b[1;32m    <a href='file:///opt/anaconda3/lib/python3.9/site-packages/pandas/core/groupby/groupby.py?line=878'>879</a>\u001b[0m \u001b[39mif\u001b[39;00m grouper \u001b[39mis\u001b[39;00m \u001b[39mNone\u001b[39;00m:\n\u001b[1;32m    <a href='file:///opt/anaconda3/lib/python3.9/site-packages/pandas/core/groupby/groupby.py?line=879'>880</a>\u001b[0m     \u001b[39mfrom\u001b[39;00m \u001b[39mpandas\u001b[39;00m\u001b[39m.\u001b[39;00m\u001b[39mcore\u001b[39;00m\u001b[39m.\u001b[39;00m\u001b[39mgroupby\u001b[39;00m\u001b[39m.\u001b[39;00m\u001b[39mgrouper\u001b[39;00m \u001b[39mimport\u001b[39;00m get_grouper\n\u001b[0;32m--> <a href='file:///opt/anaconda3/lib/python3.9/site-packages/pandas/core/groupby/groupby.py?line=881'>882</a>\u001b[0m     grouper, exclusions, obj \u001b[39m=\u001b[39m get_grouper(\n\u001b[1;32m    <a href='file:///opt/anaconda3/lib/python3.9/site-packages/pandas/core/groupby/groupby.py?line=882'>883</a>\u001b[0m         obj,\n\u001b[1;32m    <a href='file:///opt/anaconda3/lib/python3.9/site-packages/pandas/core/groupby/groupby.py?line=883'>884</a>\u001b[0m         keys,\n\u001b[1;32m    <a href='file:///opt/anaconda3/lib/python3.9/site-packages/pandas/core/groupby/groupby.py?line=884'>885</a>\u001b[0m         axis\u001b[39m=\u001b[39;49maxis,\n\u001b[1;32m    <a href='file:///opt/anaconda3/lib/python3.9/site-packages/pandas/core/groupby/groupby.py?line=885'>886</a>\u001b[0m         level\u001b[39m=\u001b[39;49mlevel,\n\u001b[1;32m    <a href='file:///opt/anaconda3/lib/python3.9/site-packages/pandas/core/groupby/groupby.py?line=886'>887</a>\u001b[0m         sort\u001b[39m=\u001b[39;49msort,\n\u001b[1;32m    <a href='file:///opt/anaconda3/lib/python3.9/site-packages/pandas/core/groupby/groupby.py?line=887'>888</a>\u001b[0m         observed\u001b[39m=\u001b[39;49mobserved,\n\u001b[1;32m    <a href='file:///opt/anaconda3/lib/python3.9/site-packages/pandas/core/groupby/groupby.py?line=888'>889</a>\u001b[0m         mutated\u001b[39m=\u001b[39;49m\u001b[39mself\u001b[39;49m\u001b[39m.\u001b[39;49mmutated,\n\u001b[1;32m    <a href='file:///opt/anaconda3/lib/python3.9/site-packages/pandas/core/groupby/groupby.py?line=889'>890</a>\u001b[0m         dropna\u001b[39m=\u001b[39;49m\u001b[39mself\u001b[39;49m\u001b[39m.\u001b[39;49mdropna,\n\u001b[1;32m    <a href='file:///opt/anaconda3/lib/python3.9/site-packages/pandas/core/groupby/groupby.py?line=890'>891</a>\u001b[0m     )\n\u001b[1;32m    <a href='file:///opt/anaconda3/lib/python3.9/site-packages/pandas/core/groupby/groupby.py?line=892'>893</a>\u001b[0m \u001b[39mself\u001b[39m\u001b[39m.\u001b[39mobj \u001b[39m=\u001b[39m obj\n\u001b[1;32m    <a href='file:///opt/anaconda3/lib/python3.9/site-packages/pandas/core/groupby/groupby.py?line=893'>894</a>\u001b[0m \u001b[39mself\u001b[39m\u001b[39m.\u001b[39maxis \u001b[39m=\u001b[39m obj\u001b[39m.\u001b[39m_get_axis_number(axis)\n",
      "File \u001b[0;32m/opt/anaconda3/lib/python3.9/site-packages/pandas/core/groupby/grouper.py:882\u001b[0m, in \u001b[0;36mget_grouper\u001b[0;34m(obj, key, axis, level, sort, observed, mutated, validate, dropna)\u001b[0m\n\u001b[1;32m    <a href='file:///opt/anaconda3/lib/python3.9/site-packages/pandas/core/groupby/grouper.py?line=879'>880</a>\u001b[0m         in_axis, level, gpr \u001b[39m=\u001b[39m \u001b[39mFalse\u001b[39;00m, gpr, \u001b[39mNone\u001b[39;00m\n\u001b[1;32m    <a href='file:///opt/anaconda3/lib/python3.9/site-packages/pandas/core/groupby/grouper.py?line=880'>881</a>\u001b[0m     \u001b[39melse\u001b[39;00m:\n\u001b[0;32m--> <a href='file:///opt/anaconda3/lib/python3.9/site-packages/pandas/core/groupby/grouper.py?line=881'>882</a>\u001b[0m         \u001b[39mraise\u001b[39;00m \u001b[39mKeyError\u001b[39;00m(gpr)\n\u001b[1;32m    <a href='file:///opt/anaconda3/lib/python3.9/site-packages/pandas/core/groupby/grouper.py?line=882'>883</a>\u001b[0m \u001b[39melif\u001b[39;00m \u001b[39misinstance\u001b[39m(gpr, Grouper) \u001b[39mand\u001b[39;00m gpr\u001b[39m.\u001b[39mkey \u001b[39mis\u001b[39;00m \u001b[39mnot\u001b[39;00m \u001b[39mNone\u001b[39;00m:\n\u001b[1;32m    <a href='file:///opt/anaconda3/lib/python3.9/site-packages/pandas/core/groupby/grouper.py?line=883'>884</a>\u001b[0m     \u001b[39m# Add key to exclusions\u001b[39;00m\n\u001b[1;32m    <a href='file:///opt/anaconda3/lib/python3.9/site-packages/pandas/core/groupby/grouper.py?line=884'>885</a>\u001b[0m     exclusions\u001b[39m.\u001b[39madd(gpr\u001b[39m.\u001b[39mkey)\n",
      "\u001b[0;31mKeyError\u001b[0m: 'closest_centroid'"
     ]
    }
   ],
   "source": [
    "Kmeans(df, 4)"
   ]
  },
  {
   "cell_type": "markdown",
   "metadata": {},
   "source": [
    "## 9. Implement “repeated” K-means to reduce the risk of finding local optima\n",
    "Modify your function and implement “repeated” K-means, in order to reduce the risk of finding local\n",
    "optima. The final function must be applied to the simulated data (see question 1), with different values\n",
    "of σ. Propose a way to compute the quality of the obtained partition: is there a way to compute a\n",
    "misclassification error rate in this case ?"
   ]
  },
  {
   "cell_type": "code",
   "execution_count": null,
   "metadata": {},
   "outputs": [],
   "source": []
  },
  {
   "cell_type": "markdown",
   "metadata": {},
   "source": [
    "## 10. Generalize your function for a matrix \n",
    "Generalize your function for a matrix X ∈ R n×p, where p > 2."
   ]
  },
  {
   "cell_type": "code",
   "execution_count": null,
   "metadata": {},
   "outputs": [],
   "source": []
  },
  {
   "cell_type": "markdown",
   "metadata": {},
   "source": [
    "## 11. Test your function on a real dataset.\n",
    "Many datasets can be easily loaded on Python with the library\n",
    "scikit-learn: https://scikit-learn.org/stable/datasets/index.html. For R users, have a look on the 2 package datasets. Here again, propose a way to compute the quality of the obtained partition: is there a way to compute a misclassification error rate in this case ?"
   ]
  }
 ],
 "metadata": {
  "interpreter": {
   "hash": "40d3a090f54c6569ab1632332b64b2c03c39dcf918b08424e98f38b5ae0af88f"
  },
  "kernelspec": {
   "display_name": "Python 3.9.12 ('base')",
   "language": "python",
   "name": "python3"
  },
  "language_info": {
   "codemirror_mode": {
    "name": "ipython",
    "version": 3
   },
   "file_extension": ".py",
   "mimetype": "text/x-python",
   "name": "python",
   "nbconvert_exporter": "python",
   "pygments_lexer": "ipython3",
   "version": "3.9.12"
  },
  "orig_nbformat": 4
 },
 "nbformat": 4,
 "nbformat_minor": 2
}
